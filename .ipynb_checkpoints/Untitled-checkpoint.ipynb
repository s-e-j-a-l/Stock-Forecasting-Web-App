{
 "cells": [
  {
   "cell_type": "markdown",
   "id": "9a57f833",
   "metadata": {},
   "source": [
    "# Data Collection"
   ]
  },
  {
   "cell_type": "code",
   "execution_count": 1,
   "id": "49e055f4",
   "metadata": {},
   "outputs": [],
   "source": [
    "import yfinance as yf\n",
    "import pandas as pd\n",
    "\n",
    "# Set ticker and period\n",
    "ticker = \"AAPL\"  # Replace with your desired symbol\n",
    "stock = yf.Ticker(ticker)\n",
    "\n",
    "# Download full historical data\n",
    "df = stock.history(period=\"max\", interval=\"1d\", auto_adjust=False)"
   ]
  },
  {
   "cell_type": "code",
   "execution_count": 2,
   "id": "841be19f",
   "metadata": {},
   "outputs": [
    {
     "data": {
      "text/html": [
       "<div>\n",
       "<style scoped>\n",
       "    .dataframe tbody tr th:only-of-type {\n",
       "        vertical-align: middle;\n",
       "    }\n",
       "\n",
       "    .dataframe tbody tr th {\n",
       "        vertical-align: top;\n",
       "    }\n",
       "\n",
       "    .dataframe thead th {\n",
       "        text-align: right;\n",
       "    }\n",
       "</style>\n",
       "<table border=\"1\" class=\"dataframe\">\n",
       "  <thead>\n",
       "    <tr style=\"text-align: right;\">\n",
       "      <th></th>\n",
       "      <th>Open</th>\n",
       "      <th>High</th>\n",
       "      <th>Low</th>\n",
       "      <th>Close</th>\n",
       "      <th>Adj Close</th>\n",
       "      <th>Volume</th>\n",
       "      <th>Dividends</th>\n",
       "      <th>Stock Splits</th>\n",
       "    </tr>\n",
       "    <tr>\n",
       "      <th>Date</th>\n",
       "      <th></th>\n",
       "      <th></th>\n",
       "      <th></th>\n",
       "      <th></th>\n",
       "      <th></th>\n",
       "      <th></th>\n",
       "      <th></th>\n",
       "      <th></th>\n",
       "    </tr>\n",
       "  </thead>\n",
       "  <tbody>\n",
       "    <tr>\n",
       "      <th>1980-12-12 00:00:00-05:00</th>\n",
       "      <td>0.128348</td>\n",
       "      <td>0.128906</td>\n",
       "      <td>0.128348</td>\n",
       "      <td>0.128348</td>\n",
       "      <td>0.098597</td>\n",
       "      <td>469033600</td>\n",
       "      <td>0.0</td>\n",
       "      <td>0.0</td>\n",
       "    </tr>\n",
       "    <tr>\n",
       "      <th>1980-12-15 00:00:00-05:00</th>\n",
       "      <td>0.122210</td>\n",
       "      <td>0.122210</td>\n",
       "      <td>0.121652</td>\n",
       "      <td>0.121652</td>\n",
       "      <td>0.093453</td>\n",
       "      <td>175884800</td>\n",
       "      <td>0.0</td>\n",
       "      <td>0.0</td>\n",
       "    </tr>\n",
       "    <tr>\n",
       "      <th>1980-12-16 00:00:00-05:00</th>\n",
       "      <td>0.113281</td>\n",
       "      <td>0.113281</td>\n",
       "      <td>0.112723</td>\n",
       "      <td>0.112723</td>\n",
       "      <td>0.086594</td>\n",
       "      <td>105728000</td>\n",
       "      <td>0.0</td>\n",
       "      <td>0.0</td>\n",
       "    </tr>\n",
       "    <tr>\n",
       "      <th>1980-12-17 00:00:00-05:00</th>\n",
       "      <td>0.115513</td>\n",
       "      <td>0.116071</td>\n",
       "      <td>0.115513</td>\n",
       "      <td>0.115513</td>\n",
       "      <td>0.088737</td>\n",
       "      <td>86441600</td>\n",
       "      <td>0.0</td>\n",
       "      <td>0.0</td>\n",
       "    </tr>\n",
       "    <tr>\n",
       "      <th>1980-12-18 00:00:00-05:00</th>\n",
       "      <td>0.118862</td>\n",
       "      <td>0.119420</td>\n",
       "      <td>0.118862</td>\n",
       "      <td>0.118862</td>\n",
       "      <td>0.091310</td>\n",
       "      <td>73449600</td>\n",
       "      <td>0.0</td>\n",
       "      <td>0.0</td>\n",
       "    </tr>\n",
       "  </tbody>\n",
       "</table>\n",
       "</div>"
      ],
      "text/plain": [
       "                               Open      High       Low     Close  Adj Close  \\\n",
       "Date                                                                           \n",
       "1980-12-12 00:00:00-05:00  0.128348  0.128906  0.128348  0.128348   0.098597   \n",
       "1980-12-15 00:00:00-05:00  0.122210  0.122210  0.121652  0.121652   0.093453   \n",
       "1980-12-16 00:00:00-05:00  0.113281  0.113281  0.112723  0.112723   0.086594   \n",
       "1980-12-17 00:00:00-05:00  0.115513  0.116071  0.115513  0.115513   0.088737   \n",
       "1980-12-18 00:00:00-05:00  0.118862  0.119420  0.118862  0.118862   0.091310   \n",
       "\n",
       "                              Volume  Dividends  Stock Splits  \n",
       "Date                                                           \n",
       "1980-12-12 00:00:00-05:00  469033600        0.0           0.0  \n",
       "1980-12-15 00:00:00-05:00  175884800        0.0           0.0  \n",
       "1980-12-16 00:00:00-05:00  105728000        0.0           0.0  \n",
       "1980-12-17 00:00:00-05:00   86441600        0.0           0.0  \n",
       "1980-12-18 00:00:00-05:00   73449600        0.0           0.0  "
      ]
     },
     "execution_count": 2,
     "metadata": {},
     "output_type": "execute_result"
    }
   ],
   "source": [
    "df.head()"
   ]
  },
  {
   "cell_type": "markdown",
   "id": "a13557d7",
   "metadata": {},
   "source": [
    "# Data Preprossing"
   ]
  },
  {
   "cell_type": "code",
   "execution_count": 3,
   "id": "9f0da3e7",
   "metadata": {},
   "outputs": [
    {
     "name": "stdout",
     "output_type": "stream",
     "text": [
      "  symbol                      date     close      high       low      open  \\\n",
      "0   AAPL 1980-12-12 00:00:00-05:00  0.128348  0.128906  0.128348  0.128348   \n",
      "1   AAPL 1980-12-15 00:00:00-05:00  0.121652  0.122210  0.121652  0.122210   \n",
      "2   AAPL 1980-12-16 00:00:00-05:00  0.112723  0.113281  0.112723  0.113281   \n",
      "3   AAPL 1980-12-17 00:00:00-05:00  0.115513  0.116071  0.115513  0.115513   \n",
      "4   AAPL 1980-12-18 00:00:00-05:00  0.118862  0.119420  0.118862  0.118862   \n",
      "\n",
      "      volume  adjClose  divCash  splitFactor  \n",
      "0  469033600  0.098597      0.0          1.0  \n",
      "1  175884800  0.093453      0.0          1.0  \n",
      "2  105728000  0.086594      0.0          1.0  \n",
      "3   86441600  0.088737      0.0          1.0  \n",
      "4   73449600  0.091310      0.0          1.0  \n",
      "\n",
      "Total rows: 11241\n"
     ]
    }
   ],
   "source": [
    "# Reset index to make 'Date' a column\n",
    "df.reset_index(inplace=True)\n",
    "\n",
    "# Add 'symbol' column\n",
    "df['symbol'] = ticker\n",
    "\n",
    "# Get dividend and split data\n",
    "actions = stock.actions.reset_index()\n",
    "dividends = actions[['Date', 'Dividends']].rename(columns={'Dividends': 'divCash'})\n",
    "splits = actions[['Date', 'Stock Splits']].rename(columns={'Stock Splits': 'splitFactor'})\n",
    "\n",
    "# Merge actions into main dataframe\n",
    "df = df.merge(dividends, on='Date', how='left')\n",
    "df = df.merge(splits, on='Date', how='left')\n",
    "\n",
    "# Fill NaN for divCash and splitFactor as 0 and 1 respectively\n",
    "df['divCash'] = df['divCash'].fillna(0.0)\n",
    "df['splitFactor'] = df['splitFactor'].fillna(1.0)\n",
    "\n",
    "# Rename columns to match your format\n",
    "df.rename(columns={\n",
    "    'Date': 'date',\n",
    "    'Close': 'close',\n",
    "    'High': 'high',\n",
    "    'Low': 'low',\n",
    "    'Open': 'open',\n",
    "    'Volume': 'volume',\n",
    "    'Adj Close': 'adjClose'\n",
    "}, inplace=True)\n",
    "\n",
    "# Optional: Reorder columns\n",
    "df = df[['symbol', 'date', 'close', 'high', 'low', 'open', 'volume', 'adjClose', \n",
    "         'divCash', 'splitFactor']]\n",
    "\n",
    "# Preview data\n",
    "print(df.head())\n",
    "\n",
    "# Check total rows\n",
    "print(\"\\nTotal rows:\", len(df))\n"
   ]
  },
  {
   "cell_type": "code",
   "execution_count": 4,
   "id": "cd2d0f16",
   "metadata": {},
   "outputs": [
    {
     "name": "stdout",
     "output_type": "stream",
     "text": [
      "\n",
      "✅ Data saved as 'AAPL_historical_data.csv'\n"
     ]
    }
   ],
   "source": [
    "# Save the data to a CSV file\n",
    "df.to_csv(f\"{ticker}_historical_data.csv\", index=False)\n",
    "\n",
    "print(f\"\\n✅ Data saved as '{ticker}_historical_data.csv'\")\n",
    "\n",
    "arima_df = df\n",
    "sarima_df = df\n",
    "prophet_df = df\n",
    "lstm_df = df\n",
    "\n"
   ]
  },
  {
   "cell_type": "code",
   "execution_count": 17,
   "id": "a2c16ca6",
   "metadata": {},
   "outputs": [
    {
     "data": {
      "text/html": [
       "<div>\n",
       "<style scoped>\n",
       "    .dataframe tbody tr th:only-of-type {\n",
       "        vertical-align: middle;\n",
       "    }\n",
       "\n",
       "    .dataframe tbody tr th {\n",
       "        vertical-align: top;\n",
       "    }\n",
       "\n",
       "    .dataframe thead th {\n",
       "        text-align: right;\n",
       "    }\n",
       "</style>\n",
       "<table border=\"1\" class=\"dataframe\">\n",
       "  <thead>\n",
       "    <tr style=\"text-align: right;\">\n",
       "      <th></th>\n",
       "      <th>symbol</th>\n",
       "      <th>date</th>\n",
       "      <th>close</th>\n",
       "      <th>high</th>\n",
       "      <th>low</th>\n",
       "      <th>open</th>\n",
       "      <th>volume</th>\n",
       "      <th>adjClose</th>\n",
       "      <th>divCash</th>\n",
       "      <th>splitFactor</th>\n",
       "    </tr>\n",
       "  </thead>\n",
       "  <tbody>\n",
       "    <tr>\n",
       "      <th>1970-01-01 00:00:00.000000000</th>\n",
       "      <td>AAPL</td>\n",
       "      <td>1980-12-12 00:00:00-05:00</td>\n",
       "      <td>0.128348</td>\n",
       "      <td>0.128906</td>\n",
       "      <td>0.128348</td>\n",
       "      <td>0.128348</td>\n",
       "      <td>469033600</td>\n",
       "      <td>0.098597</td>\n",
       "      <td>0.0</td>\n",
       "      <td>1.0</td>\n",
       "    </tr>\n",
       "    <tr>\n",
       "      <th>1970-01-01 00:00:00.000000001</th>\n",
       "      <td>AAPL</td>\n",
       "      <td>1980-12-15 00:00:00-05:00</td>\n",
       "      <td>0.121652</td>\n",
       "      <td>0.122210</td>\n",
       "      <td>0.121652</td>\n",
       "      <td>0.122210</td>\n",
       "      <td>175884800</td>\n",
       "      <td>0.093453</td>\n",
       "      <td>0.0</td>\n",
       "      <td>1.0</td>\n",
       "    </tr>\n",
       "    <tr>\n",
       "      <th>1970-01-01 00:00:00.000000002</th>\n",
       "      <td>AAPL</td>\n",
       "      <td>1980-12-16 00:00:00-05:00</td>\n",
       "      <td>0.112723</td>\n",
       "      <td>0.113281</td>\n",
       "      <td>0.112723</td>\n",
       "      <td>0.113281</td>\n",
       "      <td>105728000</td>\n",
       "      <td>0.086594</td>\n",
       "      <td>0.0</td>\n",
       "      <td>1.0</td>\n",
       "    </tr>\n",
       "    <tr>\n",
       "      <th>1970-01-01 00:00:00.000000003</th>\n",
       "      <td>AAPL</td>\n",
       "      <td>1980-12-17 00:00:00-05:00</td>\n",
       "      <td>0.115513</td>\n",
       "      <td>0.116071</td>\n",
       "      <td>0.115513</td>\n",
       "      <td>0.115513</td>\n",
       "      <td>86441600</td>\n",
       "      <td>0.088737</td>\n",
       "      <td>0.0</td>\n",
       "      <td>1.0</td>\n",
       "    </tr>\n",
       "    <tr>\n",
       "      <th>1970-01-01 00:00:00.000000004</th>\n",
       "      <td>AAPL</td>\n",
       "      <td>1980-12-18 00:00:00-05:00</td>\n",
       "      <td>0.118862</td>\n",
       "      <td>0.119420</td>\n",
       "      <td>0.118862</td>\n",
       "      <td>0.118862</td>\n",
       "      <td>73449600</td>\n",
       "      <td>0.091310</td>\n",
       "      <td>0.0</td>\n",
       "      <td>1.0</td>\n",
       "    </tr>\n",
       "  </tbody>\n",
       "</table>\n",
       "</div>"
      ],
      "text/plain": [
       "                              symbol                      date     close  \\\n",
       "1970-01-01 00:00:00.000000000   AAPL 1980-12-12 00:00:00-05:00  0.128348   \n",
       "1970-01-01 00:00:00.000000001   AAPL 1980-12-15 00:00:00-05:00  0.121652   \n",
       "1970-01-01 00:00:00.000000002   AAPL 1980-12-16 00:00:00-05:00  0.112723   \n",
       "1970-01-01 00:00:00.000000003   AAPL 1980-12-17 00:00:00-05:00  0.115513   \n",
       "1970-01-01 00:00:00.000000004   AAPL 1980-12-18 00:00:00-05:00  0.118862   \n",
       "\n",
       "                                   high       low      open     volume  \\\n",
       "1970-01-01 00:00:00.000000000  0.128906  0.128348  0.128348  469033600   \n",
       "1970-01-01 00:00:00.000000001  0.122210  0.121652  0.122210  175884800   \n",
       "1970-01-01 00:00:00.000000002  0.113281  0.112723  0.113281  105728000   \n",
       "1970-01-01 00:00:00.000000003  0.116071  0.115513  0.115513   86441600   \n",
       "1970-01-01 00:00:00.000000004  0.119420  0.118862  0.118862   73449600   \n",
       "\n",
       "                               adjClose  divCash  splitFactor  \n",
       "1970-01-01 00:00:00.000000000  0.098597      0.0          1.0  \n",
       "1970-01-01 00:00:00.000000001  0.093453      0.0          1.0  \n",
       "1970-01-01 00:00:00.000000002  0.086594      0.0          1.0  \n",
       "1970-01-01 00:00:00.000000003  0.088737      0.0          1.0  \n",
       "1970-01-01 00:00:00.000000004  0.091310      0.0          1.0  "
      ]
     },
     "execution_count": 17,
     "metadata": {},
     "output_type": "execute_result"
    }
   ],
   "source": [
    "df.head()"
   ]
  },
  {
   "cell_type": "code",
   "execution_count": 6,
   "id": "5ed09203",
   "metadata": {},
   "outputs": [
    {
     "data": {
      "text/html": [
       "<div>\n",
       "<style scoped>\n",
       "    .dataframe tbody tr th:only-of-type {\n",
       "        vertical-align: middle;\n",
       "    }\n",
       "\n",
       "    .dataframe tbody tr th {\n",
       "        vertical-align: top;\n",
       "    }\n",
       "\n",
       "    .dataframe thead th {\n",
       "        text-align: right;\n",
       "    }\n",
       "</style>\n",
       "<table border=\"1\" class=\"dataframe\">\n",
       "  <thead>\n",
       "    <tr style=\"text-align: right;\">\n",
       "      <th></th>\n",
       "      <th>symbol</th>\n",
       "      <th>date</th>\n",
       "      <th>close</th>\n",
       "      <th>high</th>\n",
       "      <th>low</th>\n",
       "      <th>open</th>\n",
       "      <th>volume</th>\n",
       "      <th>adjClose</th>\n",
       "      <th>divCash</th>\n",
       "      <th>splitFactor</th>\n",
       "    </tr>\n",
       "  </thead>\n",
       "  <tbody>\n",
       "    <tr>\n",
       "      <th>11236</th>\n",
       "      <td>AAPL</td>\n",
       "      <td>2025-07-15 00:00:00-04:00</td>\n",
       "      <td>209.110001</td>\n",
       "      <td>211.889999</td>\n",
       "      <td>208.919998</td>\n",
       "      <td>209.220001</td>\n",
       "      <td>42296300</td>\n",
       "      <td>209.110001</td>\n",
       "      <td>0.0</td>\n",
       "      <td>1.0</td>\n",
       "    </tr>\n",
       "    <tr>\n",
       "      <th>11237</th>\n",
       "      <td>AAPL</td>\n",
       "      <td>2025-07-16 00:00:00-04:00</td>\n",
       "      <td>210.160004</td>\n",
       "      <td>212.399994</td>\n",
       "      <td>208.639999</td>\n",
       "      <td>210.300003</td>\n",
       "      <td>47490500</td>\n",
       "      <td>210.160004</td>\n",
       "      <td>0.0</td>\n",
       "      <td>1.0</td>\n",
       "    </tr>\n",
       "    <tr>\n",
       "      <th>11238</th>\n",
       "      <td>AAPL</td>\n",
       "      <td>2025-07-17 00:00:00-04:00</td>\n",
       "      <td>210.020004</td>\n",
       "      <td>211.800003</td>\n",
       "      <td>209.589996</td>\n",
       "      <td>210.570007</td>\n",
       "      <td>48068100</td>\n",
       "      <td>210.020004</td>\n",
       "      <td>0.0</td>\n",
       "      <td>1.0</td>\n",
       "    </tr>\n",
       "    <tr>\n",
       "      <th>11239</th>\n",
       "      <td>AAPL</td>\n",
       "      <td>2025-07-18 00:00:00-04:00</td>\n",
       "      <td>211.179993</td>\n",
       "      <td>211.789993</td>\n",
       "      <td>209.699997</td>\n",
       "      <td>210.869995</td>\n",
       "      <td>48974600</td>\n",
       "      <td>211.179993</td>\n",
       "      <td>0.0</td>\n",
       "      <td>1.0</td>\n",
       "    </tr>\n",
       "    <tr>\n",
       "      <th>11240</th>\n",
       "      <td>AAPL</td>\n",
       "      <td>2025-07-21 00:00:00-04:00</td>\n",
       "      <td>212.479996</td>\n",
       "      <td>215.779999</td>\n",
       "      <td>211.630005</td>\n",
       "      <td>212.100006</td>\n",
       "      <td>51322500</td>\n",
       "      <td>212.479996</td>\n",
       "      <td>0.0</td>\n",
       "      <td>1.0</td>\n",
       "    </tr>\n",
       "  </tbody>\n",
       "</table>\n",
       "</div>"
      ],
      "text/plain": [
       "      symbol                      date       close        high         low  \\\n",
       "11236   AAPL 2025-07-15 00:00:00-04:00  209.110001  211.889999  208.919998   \n",
       "11237   AAPL 2025-07-16 00:00:00-04:00  210.160004  212.399994  208.639999   \n",
       "11238   AAPL 2025-07-17 00:00:00-04:00  210.020004  211.800003  209.589996   \n",
       "11239   AAPL 2025-07-18 00:00:00-04:00  211.179993  211.789993  209.699997   \n",
       "11240   AAPL 2025-07-21 00:00:00-04:00  212.479996  215.779999  211.630005   \n",
       "\n",
       "             open    volume    adjClose  divCash  splitFactor  \n",
       "11236  209.220001  42296300  209.110001      0.0          1.0  \n",
       "11237  210.300003  47490500  210.160004      0.0          1.0  \n",
       "11238  210.570007  48068100  210.020004      0.0          1.0  \n",
       "11239  210.869995  48974600  211.179993      0.0          1.0  \n",
       "11240  212.100006  51322500  212.479996      0.0          1.0  "
      ]
     },
     "execution_count": 6,
     "metadata": {},
     "output_type": "execute_result"
    }
   ],
   "source": [
    "df.tail()"
   ]
  },
  {
   "cell_type": "code",
   "execution_count": 7,
   "id": "930b140b",
   "metadata": {},
   "outputs": [],
   "source": [
    "df1=df.reset_index()['close'] #Arima\n",
    "df2=df.reset_index()['close'] #Sarima\n",
    "df3=df.reset_index()['close'] #prophet\n",
    "df4=df.reset_index()['close'] #Lstm"
   ]
  },
  {
   "cell_type": "code",
   "execution_count": 8,
   "id": "e7f27ca7",
   "metadata": {},
   "outputs": [
    {
     "data": {
      "text/plain": [
       "0          0.128348\n",
       "1          0.121652\n",
       "2          0.112723\n",
       "3          0.115513\n",
       "4          0.118862\n",
       "            ...    \n",
       "11236    209.110001\n",
       "11237    210.160004\n",
       "11238    210.020004\n",
       "11239    211.179993\n",
       "11240    212.479996\n",
       "Name: close, Length: 11241, dtype: float64"
      ]
     },
     "execution_count": 8,
     "metadata": {},
     "output_type": "execute_result"
    }
   ],
   "source": [
    "df1"
   ]
  },
  {
   "cell_type": "code",
   "execution_count": 9,
   "id": "33840842",
   "metadata": {},
   "outputs": [
    {
     "data": {
      "text/plain": [
       "[<matplotlib.lines.Line2D at 0x14ea1c210>]"
      ]
     },
     "execution_count": 9,
     "metadata": {},
     "output_type": "execute_result"
    },
    {
     "data": {
      "image/png": "[encoded data removed]",
      "text/plain": [
       "<Figure size 640x480 with 1 Axes>"
      ]
     },
     "metadata": {},
     "output_type": "display_data"
    }
   ],
   "source": [
    "import matplotlib.pyplot as plt\n",
    "plt.plot(df1)"
   ]
  },
  {
   "cell_type": "markdown",
   "id": "f9bee12a",
   "metadata": {},
   "source": [
    "# 1. Arima"
   ]
  },
  {
   "cell_type": "code",
   "execution_count": 10,
   "id": "456f0926",
   "metadata": {},
   "outputs": [
    {
     "data": {
      "text/plain": [
       "(11241, 10)"
      ]
     },
     "execution_count": 10,
     "metadata": {},
     "output_type": "execute_result"
    }
   ],
   "source": [
    "arima_df.shape"
   ]
  },
  {
   "cell_type": "code",
   "execution_count": 14,
   "id": "a4b23fd1",
   "metadata": {},
   "outputs": [
    {
     "data": {
      "text/html": [
       "<div>\n",
       "<style scoped>\n",
       "    .dataframe tbody tr th:only-of-type {\n",
       "        vertical-align: middle;\n",
       "    }\n",
       "\n",
       "    .dataframe tbody tr th {\n",
       "        vertical-align: top;\n",
       "    }\n",
       "\n",
       "    .dataframe thead th {\n",
       "        text-align: right;\n",
       "    }\n",
       "</style>\n",
       "<table border=\"1\" class=\"dataframe\">\n",
       "  <thead>\n",
       "    <tr style=\"text-align: right;\">\n",
       "      <th></th>\n",
       "      <th>symbol</th>\n",
       "      <th>date</th>\n",
       "      <th>close</th>\n",
       "      <th>high</th>\n",
       "      <th>low</th>\n",
       "      <th>open</th>\n",
       "      <th>volume</th>\n",
       "      <th>adjClose</th>\n",
       "      <th>divCash</th>\n",
       "      <th>splitFactor</th>\n",
       "    </tr>\n",
       "  </thead>\n",
       "  <tbody>\n",
       "    <tr>\n",
       "      <th>1970-01-01 00:00:00.000000000</th>\n",
       "      <td>AAPL</td>\n",
       "      <td>1980-12-12 00:00:00-05:00</td>\n",
       "      <td>0.128348</td>\n",
       "      <td>0.128906</td>\n",
       "      <td>0.128348</td>\n",
       "      <td>0.128348</td>\n",
       "      <td>469033600</td>\n",
       "      <td>0.098597</td>\n",
       "      <td>0.0</td>\n",
       "      <td>1.0</td>\n",
       "    </tr>\n",
       "    <tr>\n",
       "      <th>1970-01-01 00:00:00.000000001</th>\n",
       "      <td>AAPL</td>\n",
       "      <td>1980-12-15 00:00:00-05:00</td>\n",
       "      <td>0.121652</td>\n",
       "      <td>0.122210</td>\n",
       "      <td>0.121652</td>\n",
       "      <td>0.122210</td>\n",
       "      <td>175884800</td>\n",
       "      <td>0.093453</td>\n",
       "      <td>0.0</td>\n",
       "      <td>1.0</td>\n",
       "    </tr>\n",
       "    <tr>\n",
       "      <th>1970-01-01 00:00:00.000000002</th>\n",
       "      <td>AAPL</td>\n",
       "      <td>1980-12-16 00:00:00-05:00</td>\n",
       "      <td>0.112723</td>\n",
       "      <td>0.113281</td>\n",
       "      <td>0.112723</td>\n",
       "      <td>0.113281</td>\n",
       "      <td>105728000</td>\n",
       "      <td>0.086594</td>\n",
       "      <td>0.0</td>\n",
       "      <td>1.0</td>\n",
       "    </tr>\n",
       "    <tr>\n",
       "      <th>1970-01-01 00:00:00.000000003</th>\n",
       "      <td>AAPL</td>\n",
       "      <td>1980-12-17 00:00:00-05:00</td>\n",
       "      <td>0.115513</td>\n",
       "      <td>0.116071</td>\n",
       "      <td>0.115513</td>\n",
       "      <td>0.115513</td>\n",
       "      <td>86441600</td>\n",
       "      <td>0.088737</td>\n",
       "      <td>0.0</td>\n",
       "      <td>1.0</td>\n",
       "    </tr>\n",
       "    <tr>\n",
       "      <th>1970-01-01 00:00:00.000000004</th>\n",
       "      <td>AAPL</td>\n",
       "      <td>1980-12-18 00:00:00-05:00</td>\n",
       "      <td>0.118862</td>\n",
       "      <td>0.119420</td>\n",
       "      <td>0.118862</td>\n",
       "      <td>0.118862</td>\n",
       "      <td>73449600</td>\n",
       "      <td>0.091310</td>\n",
       "      <td>0.0</td>\n",
       "      <td>1.0</td>\n",
       "    </tr>\n",
       "  </tbody>\n",
       "</table>\n",
       "</div>"
      ],
      "text/plain": [
       "                              symbol                      date     close  \\\n",
       "1970-01-01 00:00:00.000000000   AAPL 1980-12-12 00:00:00-05:00  0.128348   \n",
       "1970-01-01 00:00:00.000000001   AAPL 1980-12-15 00:00:00-05:00  0.121652   \n",
       "1970-01-01 00:00:00.000000002   AAPL 1980-12-16 00:00:00-05:00  0.112723   \n",
       "1970-01-01 00:00:00.000000003   AAPL 1980-12-17 00:00:00-05:00  0.115513   \n",
       "1970-01-01 00:00:00.000000004   AAPL 1980-12-18 00:00:00-05:00  0.118862   \n",
       "\n",
       "                                   high       low      open     volume  \\\n",
       "1970-01-01 00:00:00.000000000  0.128906  0.128348  0.128348  469033600   \n",
       "1970-01-01 00:00:00.000000001  0.122210  0.121652  0.122210  175884800   \n",
       "1970-01-01 00:00:00.000000002  0.113281  0.112723  0.113281  105728000   \n",
       "1970-01-01 00:00:00.000000003  0.116071  0.115513  0.115513   86441600   \n",
       "1970-01-01 00:00:00.000000004  0.119420  0.118862  0.118862   73449600   \n",
       "\n",
       "                               adjClose  divCash  splitFactor  \n",
       "1970-01-01 00:00:00.000000000  0.098597      0.0          1.0  \n",
       "1970-01-01 00:00:00.000000001  0.093453      0.0          1.0  \n",
       "1970-01-01 00:00:00.000000002  0.086594      0.0          1.0  \n",
       "1970-01-01 00:00:00.000000003  0.088737      0.0          1.0  \n",
       "1970-01-01 00:00:00.000000004  0.091310      0.0          1.0  "
      ]
     },
     "execution_count": 14,
     "metadata": {},
     "output_type": "execute_result"
    }
   ],
   "source": [
    "arima_df.head()"
   ]
  },
  {
   "cell_type": "code",
   "execution_count": 11,
   "id": "e486ccd4",
   "metadata": {},
   "outputs": [
    {
     "name": "stdout",
     "output_type": "stream",
     "text": [
      "Requirement already satisfied: pmdarima in /Users/sejal/anaconda3/lib/python3.11/site-packages (2.0.4)\n",
      "Requirement already satisfied: joblib>=0.11 in /Users/sejal/anaconda3/lib/python3.11/site-packages (from pmdarima) (1.2.0)\n",
      "Requirement already satisfied: Cython!=0.29.18,!=0.29.31,>=0.29 in /Users/sejal/anaconda3/lib/python3.11/site-packages (from pmdarima) (3.1.2)\n",
      "Requirement already satisfied: numpy>=1.21.2 in /Users/sejal/anaconda3/lib/python3.11/site-packages (from pmdarima) (1.24.3)\n",
      "Requirement already satisfied: pandas>=0.19 in /Users/sejal/anaconda3/lib/python3.11/site-packages (from pmdarima) (2.0.3)\n",
      "Requirement already satisfied: scikit-learn>=0.22 in /Users/sejal/anaconda3/lib/python3.11/site-packages (from pmdarima) (1.3.0)\n",
      "Requirement already satisfied: scipy>=1.3.2 in /Users/sejal/anaconda3/lib/python3.11/site-packages (from pmdarima) (1.11.1)\n",
      "Requirement already satisfied: statsmodels>=0.13.2 in /Users/sejal/anaconda3/lib/python3.11/site-packages (from pmdarima) (0.14.0)\n",
      "Requirement already satisfied: urllib3 in /Users/sejal/anaconda3/lib/python3.11/site-packages (from pmdarima) (1.26.16)\n",
      "Requirement already satisfied: setuptools!=50.0.0,>=38.6.0 in /Users/sejal/anaconda3/lib/python3.11/site-packages (from pmdarima) (68.0.0)\n",
      "Requirement already satisfied: packaging>=17.1 in /Users/sejal/anaconda3/lib/python3.11/site-packages (from pmdarima) (23.1)\n",
      "Requirement already satisfied: python-dateutil>=2.8.2 in /Users/sejal/anaconda3/lib/python3.11/site-packages (from pandas>=0.19->pmdarima) (2.8.2)\n",
      "Requirement already satisfied: pytz>=2020.1 in /Users/sejal/anaconda3/lib/python3.11/site-packages (from pandas>=0.19->pmdarima) (2023.3.post1)\n",
      "Requirement already satisfied: tzdata>=2022.1 in /Users/sejal/anaconda3/lib/python3.11/site-packages (from pandas>=0.19->pmdarima) (2023.3)\n",
      "Requirement already satisfied: threadpoolctl>=2.0.0 in /Users/sejal/anaconda3/lib/python3.11/site-packages (from scikit-learn>=0.22->pmdarima) (2.2.0)\n",
      "Requirement already satisfied: patsy>=0.5.2 in /Users/sejal/anaconda3/lib/python3.11/site-packages (from statsmodels>=0.13.2->pmdarima) (0.5.3)\n",
      "Requirement already satisfied: six in /Users/sejal/anaconda3/lib/python3.11/site-packages (from patsy>=0.5.2->statsmodels>=0.13.2->pmdarima) (1.16.0)\n",
      "Note: you may need to restart the kernel to use updated packages.\n"
     ]
    }
   ],
   "source": [
    "pip install pmdarima\n"
   ]
  },
  {
   "cell_type": "code",
   "execution_count": 12,
   "id": "472d1d35",
   "metadata": {
    "scrolled": true
   },
   "outputs": [
    {
     "name": "stdout",
     "output_type": "stream",
     "text": [
      "Performing stepwise search to minimize aic\n",
      " ARIMA(1,2,1)(0,0,0)[0] intercept   : AIC=inf, Time=3.16 sec\n",
      " ARIMA(0,2,0)(0,0,0)[0] intercept   : AIC=41507.647, Time=0.12 sec\n",
      " ARIMA(1,2,0)(0,0,0)[0] intercept   : AIC=38064.403, Time=0.29 sec\n",
      " ARIMA(0,2,1)(0,0,0)[0] intercept   : AIC=inf, Time=2.22 sec\n",
      " ARIMA(0,2,0)(0,0,0)[0]             : AIC=41505.647, Time=0.10 sec\n",
      " ARIMA(2,2,0)(0,0,0)[0] intercept   : AIC=37069.851, Time=0.42 sec\n",
      " ARIMA(3,2,0)(0,0,0)[0] intercept   : AIC=36414.376, Time=0.56 sec\n",
      " ARIMA(4,2,0)(0,0,0)[0] intercept   : AIC=35897.392, Time=0.73 sec\n",
      " ARIMA(5,2,0)(0,0,0)[0] intercept   : AIC=35555.066, Time=0.95 sec\n",
      " ARIMA(5,2,1)(0,0,0)[0] intercept   : AIC=inf, Time=9.27 sec\n",
      " ARIMA(4,2,1)(0,0,0)[0] intercept   : AIC=inf, Time=7.01 sec\n",
      " ARIMA(5,2,0)(0,0,0)[0]             : AIC=35553.066, Time=0.43 sec\n",
      " ARIMA(4,2,0)(0,0,0)[0]             : AIC=35895.392, Time=0.31 sec\n",
      " ARIMA(5,2,1)(0,0,0)[0]             : AIC=inf, Time=2.39 sec\n",
      " ARIMA(4,2,1)(0,0,0)[0]             : AIC=inf, Time=1.60 sec\n",
      "\n",
      "Best model:  ARIMA(5,2,0)(0,0,0)[0]          \n",
      "Total fit time: 29.569 seconds\n"
     ]
    },
    {
     "data": {
      "image/png": "[encoded data removed]",
      "text/plain": [
       "<Figure size 1200x500 with 1 Axes>"
      ]
     },
     "metadata": {},
     "output_type": "display_data"
    }
   ],
   "source": [
    "import pandas as pd\n",
    "import matplotlib.pyplot as plt\n",
    "import warnings\n",
    "from pmdarima import auto_arima\n",
    "warnings.filterwarnings(\"ignore\")\n",
    "\n",
    "# Use the same `arima_df` from before\n",
    "arima_df.index = pd.to_datetime(arima_df.index)\n",
    "arima_df.sort_index(inplace=True)\n",
    "ts1 = arima_df['close']\n",
    "\n",
    "# Fit the optimal ARIMA model\n",
    "stepwise_model = auto_arima(ts1, start_p=1, start_q=1,\n",
    "                            max_p=5, max_q=5,\n",
    "                            d=None, seasonal=False,\n",
    "                            trace=True, error_action='ignore',\n",
    "                            suppress_warnings=True, stepwise=True)\n",
    "\n",
    "# Forecast the next 30 business days\n",
    "n_periods = 30\n",
    "forecast, conf_int = stepwise_model.predict(n_periods=n_periods, return_conf_int=True)\n",
    "\n",
    "# Create future dates\n",
    "future_dates = pd.date_range(start=ts.index[-1], periods=n_periods + 1, freq='B')[1:]\n",
    "\n",
    "# Plot forecast\n",
    "plt.figure(figsize=(12, 5))\n",
    "plt.plot(ts1[-100:], label='Historical (last 100)')\n",
    "plt.plot(future_dates, forecast, label='Forecast', color='red')\n",
    "plt.fill_between(future_dates, conf_int[:, 0], conf_int[:, 1], color='pink', alpha=0.3)\n",
    "plt.title('ARIMA Forecast with auto_arima')\n",
    "plt.xlabel('Date')\n",
    "plt.ylabel('Close Price')\n",
    "plt.legend()\n",
    "plt.grid(True)\n",
    "plt.tight_layout()\n",
    "plt.show()\n"
   ]
  },
  {
   "cell_type": "markdown",
   "id": "2952b2af",
   "metadata": {},
   "source": [
    "# 2. sarima"
   ]
  },
  {
   "cell_type": "code",
   "execution_count": 13,
   "id": "4694e23c",
   "metadata": {},
   "outputs": [
    {
     "data": {
      "text/html": [
       "<div>\n",
       "<style scoped>\n",
       "    .dataframe tbody tr th:only-of-type {\n",
       "        vertical-align: middle;\n",
       "    }\n",
       "\n",
       "    .dataframe tbody tr th {\n",
       "        vertical-align: top;\n",
       "    }\n",
       "\n",
       "    .dataframe thead th {\n",
       "        text-align: right;\n",
       "    }\n",
       "</style>\n",
       "<table border=\"1\" class=\"dataframe\">\n",
       "  <thead>\n",
       "    <tr style=\"text-align: right;\">\n",
       "      <th></th>\n",
       "      <th>symbol</th>\n",
       "      <th>date</th>\n",
       "      <th>close</th>\n",
       "      <th>high</th>\n",
       "      <th>low</th>\n",
       "      <th>open</th>\n",
       "      <th>volume</th>\n",
       "      <th>adjClose</th>\n",
       "      <th>divCash</th>\n",
       "      <th>splitFactor</th>\n",
       "    </tr>\n",
       "  </thead>\n",
       "  <tbody>\n",
       "    <tr>\n",
       "      <th>1970-01-01 00:00:00.000000000</th>\n",
       "      <td>AAPL</td>\n",
       "      <td>1980-12-12 00:00:00-05:00</td>\n",
       "      <td>0.128348</td>\n",
       "      <td>0.128906</td>\n",
       "      <td>0.128348</td>\n",
       "      <td>0.128348</td>\n",
       "      <td>469033600</td>\n",
       "      <td>0.098597</td>\n",
       "      <td>0.0</td>\n",
       "      <td>1.0</td>\n",
       "    </tr>\n",
       "    <tr>\n",
       "      <th>1970-01-01 00:00:00.000000001</th>\n",
       "      <td>AAPL</td>\n",
       "      <td>1980-12-15 00:00:00-05:00</td>\n",
       "      <td>0.121652</td>\n",
       "      <td>0.122210</td>\n",
       "      <td>0.121652</td>\n",
       "      <td>0.122210</td>\n",
       "      <td>175884800</td>\n",
       "      <td>0.093453</td>\n",
       "      <td>0.0</td>\n",
       "      <td>1.0</td>\n",
       "    </tr>\n",
       "    <tr>\n",
       "      <th>1970-01-01 00:00:00.000000002</th>\n",
       "      <td>AAPL</td>\n",
       "      <td>1980-12-16 00:00:00-05:00</td>\n",
       "      <td>0.112723</td>\n",
       "      <td>0.113281</td>\n",
       "      <td>0.112723</td>\n",
       "      <td>0.113281</td>\n",
       "      <td>105728000</td>\n",
       "      <td>0.086594</td>\n",
       "      <td>0.0</td>\n",
       "      <td>1.0</td>\n",
       "    </tr>\n",
       "    <tr>\n",
       "      <th>1970-01-01 00:00:00.000000003</th>\n",
       "      <td>AAPL</td>\n",
       "      <td>1980-12-17 00:00:00-05:00</td>\n",
       "      <td>0.115513</td>\n",
       "      <td>0.116071</td>\n",
       "      <td>0.115513</td>\n",
       "      <td>0.115513</td>\n",
       "      <td>86441600</td>\n",
       "      <td>0.088737</td>\n",
       "      <td>0.0</td>\n",
       "      <td>1.0</td>\n",
       "    </tr>\n",
       "    <tr>\n",
       "      <th>1970-01-01 00:00:00.000000004</th>\n",
       "      <td>AAPL</td>\n",
       "      <td>1980-12-18 00:00:00-05:00</td>\n",
       "      <td>0.118862</td>\n",
       "      <td>0.119420</td>\n",
       "      <td>0.118862</td>\n",
       "      <td>0.118862</td>\n",
       "      <td>73449600</td>\n",
       "      <td>0.091310</td>\n",
       "      <td>0.0</td>\n",
       "      <td>1.0</td>\n",
       "    </tr>\n",
       "  </tbody>\n",
       "</table>\n",
       "</div>"
      ],
      "text/plain": [
       "                              symbol                      date     close  \\\n",
       "1970-01-01 00:00:00.000000000   AAPL 1980-12-12 00:00:00-05:00  0.128348   \n",
       "1970-01-01 00:00:00.000000001   AAPL 1980-12-15 00:00:00-05:00  0.121652   \n",
       "1970-01-01 00:00:00.000000002   AAPL 1980-12-16 00:00:00-05:00  0.112723   \n",
       "1970-01-01 00:00:00.000000003   AAPL 1980-12-17 00:00:00-05:00  0.115513   \n",
       "1970-01-01 00:00:00.000000004   AAPL 1980-12-18 00:00:00-05:00  0.118862   \n",
       "\n",
       "                                   high       low      open     volume  \\\n",
       "1970-01-01 00:00:00.000000000  0.128906  0.128348  0.128348  469033600   \n",
       "1970-01-01 00:00:00.000000001  0.122210  0.121652  0.122210  175884800   \n",
       "1970-01-01 00:00:00.000000002  0.113281  0.112723  0.113281  105728000   \n",
       "1970-01-01 00:00:00.000000003  0.116071  0.115513  0.115513   86441600   \n",
       "1970-01-01 00:00:00.000000004  0.119420  0.118862  0.118862   73449600   \n",
       "\n",
       "                               adjClose  divCash  splitFactor  \n",
       "1970-01-01 00:00:00.000000000  0.098597      0.0          1.0  \n",
       "1970-01-01 00:00:00.000000001  0.093453      0.0          1.0  \n",
       "1970-01-01 00:00:00.000000002  0.086594      0.0          1.0  \n",
       "1970-01-01 00:00:00.000000003  0.088737      0.0          1.0  \n",
       "1970-01-01 00:00:00.000000004  0.091310      0.0          1.0  "
      ]
     },
     "execution_count": 13,
     "metadata": {},
     "output_type": "execute_result"
    }
   ],
   "source": [
    "sarima_df.head()"
   ]
  },
  {
   "cell_type": "code",
   "execution_count": 18,
   "id": "d4fe40a8",
   "metadata": {},
   "outputs": [
    {
     "data": {
      "text/plain": [
       "0    0.128348\n",
       "1    0.121652\n",
       "2    0.112723\n",
       "3    0.115513\n",
       "4    0.118862\n",
       "Name: close, dtype: float64"
      ]
     },
     "execution_count": 18,
     "metadata": {},
     "output_type": "execute_result"
    }
   ],
   "source": [
    "df2.head()"
   ]
  },
  {
   "cell_type": "code",
   "execution_count": 19,
   "id": "db31c549",
   "metadata": {},
   "outputs": [
    {
     "name": "stdout",
     "output_type": "stream",
     "text": [
      "Requirement already satisfied: statsmodels in /Users/sejal/anaconda3/lib/python3.11/site-packages (0.14.0)\n",
      "Requirement already satisfied: numpy>=1.18 in /Users/sejal/anaconda3/lib/python3.11/site-packages (from statsmodels) (1.24.3)\n",
      "Requirement already satisfied: scipy!=1.9.2,>=1.4 in /Users/sejal/anaconda3/lib/python3.11/site-packages (from statsmodels) (1.11.1)\n",
      "Requirement already satisfied: pandas>=1.0 in /Users/sejal/anaconda3/lib/python3.11/site-packages (from statsmodels) (2.0.3)\n",
      "Requirement already satisfied: patsy>=0.5.2 in /Users/sejal/anaconda3/lib/python3.11/site-packages (from statsmodels) (0.5.3)\n",
      "Requirement already satisfied: packaging>=21.3 in /Users/sejal/anaconda3/lib/python3.11/site-packages (from statsmodels) (23.1)\n",
      "Requirement already satisfied: python-dateutil>=2.8.2 in /Users/sejal/anaconda3/lib/python3.11/site-packages (from pandas>=1.0->statsmodels) (2.8.2)\n",
      "Requirement already satisfied: pytz>=2020.1 in /Users/sejal/anaconda3/lib/python3.11/site-packages (from pandas>=1.0->statsmodels) (2023.3.post1)\n",
      "Requirement already satisfied: tzdata>=2022.1 in /Users/sejal/anaconda3/lib/python3.11/site-packages (from pandas>=1.0->statsmodels) (2023.3)\n",
      "Requirement already satisfied: six in /Users/sejal/anaconda3/lib/python3.11/site-packages (from patsy>=0.5.2->statsmodels) (1.16.0)\n",
      "Note: you may need to restart the kernel to use updated packages.\n"
     ]
    }
   ],
   "source": [
    "pip install statsmodels\n"
   ]
  },
  {
   "cell_type": "code",
   "execution_count": 29,
   "id": "024d225f",
   "metadata": {},
   "outputs": [
    {
     "data": {
      "image/png": "[encoded data removed]",
      "text/plain": [
       "<Figure size 1200x600 with 1 Axes>"
      ]
     },
     "metadata": {},
     "output_type": "display_data"
    },
    {
     "name": "stdout",
     "output_type": "stream",
     "text": [
      "Next 30 Business Days Forecast:\n",
      "2025-07-22 00:00:00-04:00    212.487206\n",
      "2025-07-23 00:00:00-04:00    212.569034\n",
      "2025-07-24 00:00:00-04:00    212.616534\n",
      "2025-07-25 00:00:00-04:00    212.743873\n",
      "2025-07-28 00:00:00-04:00    212.638879\n",
      "2025-07-29 00:00:00-04:00    212.713255\n",
      "2025-07-30 00:00:00-04:00    212.737517\n",
      "2025-07-31 00:00:00-04:00    212.774367\n",
      "2025-08-01 00:00:00-04:00    212.799683\n",
      "2025-08-04 00:00:00-04:00    212.861146\n",
      "2025-08-05 00:00:00-04:00    212.779900\n",
      "2025-08-06 00:00:00-04:00    212.880394\n",
      "2025-08-07 00:00:00-04:00    212.909514\n",
      "2025-08-08 00:00:00-04:00    212.919934\n",
      "2025-08-11 00:00:00-04:00    212.968415\n",
      "2025-08-12 00:00:00-04:00    213.114258\n",
      "2025-08-13 00:00:00-04:00    213.036394\n",
      "2025-08-14 00:00:00-04:00    213.084614\n",
      "2025-08-15 00:00:00-04:00    213.060395\n",
      "2025-08-18 00:00:00-04:00    213.105208\n",
      "2025-08-19 00:00:00-04:00    213.150924\n",
      "2025-08-20 00:00:00-04:00    213.207788\n",
      "2025-08-21 00:00:00-04:00    213.151096\n",
      "2025-08-22 00:00:00-04:00    213.273883\n",
      "2025-08-25 00:00:00-04:00    213.303310\n",
      "2025-08-26 00:00:00-04:00    213.314374\n",
      "2025-08-27 00:00:00-04:00    213.363562\n",
      "2025-08-28 00:00:00-04:00    213.508326\n",
      "2025-08-29 00:00:00-04:00    213.430664\n",
      "2025-09-01 00:00:00-04:00    213.478664\n",
      "Freq: B, dtype: float64\n"
     ]
    }
   ],
   "source": [
    "import pandas as pd\n",
    "import matplotlib.pyplot as plt\n",
    "from statsmodels.tsa.statespace.sarimax import SARIMAX\n",
    "from datetime import timedelta\n",
    "\n",
    "# Assuming sarima_df is already loaded and 'close' column exists\n",
    "sarima_df.index = pd.to_datetime(sarima_df.index)\n",
    "sarima_df = sarima_df.sort_index()\n",
    "\n",
    "# Use only the 'close' column as a time series\n",
    "ts = sarima_df['close']\n",
    "\n",
    "# Fit SARIMA model manually (you can tune order/seasonal_order)\n",
    "model = SARIMAX(ts,\n",
    "                order=(1, 1, 1),              # p,d,q — try adjusting\n",
    "                seasonal_order=(1, 1, 1, 12), # P,D,Q,m — 12 = monthly seasonality\n",
    "                enforce_stationarity=False,\n",
    "                enforce_invertibility=False)\n",
    "\n",
    "results = model.fit(disp=False)\n",
    "\n",
    "# Forecasting next 30 business days\n",
    "n_steps = 30\n",
    "last_date = ts.index[-1]\n",
    "future_dates = pd.date_range(start=last_date + timedelta(days=1), periods=n_steps, freq='B')\n",
    "\n",
    "forecast = results.get_forecast(steps=n_steps)\n",
    "forecast_mean = forecast.predicted_mean\n",
    "forecast_ci = forecast.conf_int()\n",
    "\n",
    "# Create forecast series with future dates\n",
    "forecast_series = pd.Series(forecast_mean.values, index=future_dates)\n",
    "\n",
    "# Plotting\n",
    "plt.figure(figsize=(12, 6))\n",
    "plt.plot(ts[-100:], label='Historical (last 100)')\n",
    "plt.plot(forecast_series, label='SARIMA Forecast (30 business days)', color='red')\n",
    "plt.fill_between(future_dates, \n",
    "                 forecast_ci.iloc[:, 0].values, \n",
    "                 forecast_ci.iloc[:, 1].values, \n",
    "                 color='pink', alpha=0.3)\n",
    "plt.title('SARIMA Forecast')\n",
    "plt.xlabel('Date')\n",
    "plt.ylabel('Close Price')\n",
    "plt.legend()\n",
    "plt.grid(True)\n",
    "plt.tight_layout()\n",
    "plt.show()\n",
    "\n",
    "# Show forecast table\n",
    "print(\"Next 30 Business Days Forecast:\")\n",
    "print(forecast_series)\n"
   ]
  },
  {
   "cell_type": "markdown",
   "id": "5cdb4a1a",
   "metadata": {},
   "source": [
    "# 3. Prophet"
   ]
  },
  {
   "cell_type": "code",
   "execution_count": 30,
   "id": "4918d5aa",
   "metadata": {},
   "outputs": [
    {
     "data": {
      "text/html": [
       "<div>\n",
       "<style scoped>\n",
       "    .dataframe tbody tr th:only-of-type {\n",
       "        vertical-align: middle;\n",
       "    }\n",
       "\n",
       "    .dataframe tbody tr th {\n",
       "        vertical-align: top;\n",
       "    }\n",
       "\n",
       "    .dataframe thead th {\n",
       "        text-align: right;\n",
       "    }\n",
       "</style>\n",
       "<table border=\"1\" class=\"dataframe\">\n",
       "  <thead>\n",
       "    <tr style=\"text-align: right;\">\n",
       "      <th></th>\n",
       "      <th>symbol</th>\n",
       "      <th>close</th>\n",
       "      <th>high</th>\n",
       "      <th>low</th>\n",
       "      <th>open</th>\n",
       "      <th>volume</th>\n",
       "      <th>adjClose</th>\n",
       "      <th>divCash</th>\n",
       "      <th>splitFactor</th>\n",
       "    </tr>\n",
       "    <tr>\n",
       "      <th>date</th>\n",
       "      <th></th>\n",
       "      <th></th>\n",
       "      <th></th>\n",
       "      <th></th>\n",
       "      <th></th>\n",
       "      <th></th>\n",
       "      <th></th>\n",
       "      <th></th>\n",
       "      <th></th>\n",
       "    </tr>\n",
       "  </thead>\n",
       "  <tbody>\n",
       "    <tr>\n",
       "      <th>1980-12-12 00:00:00-05:00</th>\n",
       "      <td>AAPL</td>\n",
       "      <td>0.128348</td>\n",
       "      <td>0.128906</td>\n",
       "      <td>0.128348</td>\n",
       "      <td>0.128348</td>\n",
       "      <td>469033600</td>\n",
       "      <td>0.098597</td>\n",
       "      <td>0.0</td>\n",
       "      <td>1.0</td>\n",
       "    </tr>\n",
       "    <tr>\n",
       "      <th>1980-12-15 00:00:00-05:00</th>\n",
       "      <td>AAPL</td>\n",
       "      <td>0.121652</td>\n",
       "      <td>0.122210</td>\n",
       "      <td>0.121652</td>\n",
       "      <td>0.122210</td>\n",
       "      <td>175884800</td>\n",
       "      <td>0.093453</td>\n",
       "      <td>0.0</td>\n",
       "      <td>1.0</td>\n",
       "    </tr>\n",
       "    <tr>\n",
       "      <th>1980-12-16 00:00:00-05:00</th>\n",
       "      <td>AAPL</td>\n",
       "      <td>0.112723</td>\n",
       "      <td>0.113281</td>\n",
       "      <td>0.112723</td>\n",
       "      <td>0.113281</td>\n",
       "      <td>105728000</td>\n",
       "      <td>0.086594</td>\n",
       "      <td>0.0</td>\n",
       "      <td>1.0</td>\n",
       "    </tr>\n",
       "    <tr>\n",
       "      <th>1980-12-17 00:00:00-05:00</th>\n",
       "      <td>AAPL</td>\n",
       "      <td>0.115513</td>\n",
       "      <td>0.116071</td>\n",
       "      <td>0.115513</td>\n",
       "      <td>0.115513</td>\n",
       "      <td>86441600</td>\n",
       "      <td>0.088737</td>\n",
       "      <td>0.0</td>\n",
       "      <td>1.0</td>\n",
       "    </tr>\n",
       "    <tr>\n",
       "      <th>1980-12-18 00:00:00-05:00</th>\n",
       "      <td>AAPL</td>\n",
       "      <td>0.118862</td>\n",
       "      <td>0.119420</td>\n",
       "      <td>0.118862</td>\n",
       "      <td>0.118862</td>\n",
       "      <td>73449600</td>\n",
       "      <td>0.091310</td>\n",
       "      <td>0.0</td>\n",
       "      <td>1.0</td>\n",
       "    </tr>\n",
       "  </tbody>\n",
       "</table>\n",
       "</div>"
      ],
      "text/plain": [
       "                          symbol     close      high       low      open  \\\n",
       "date                                                                       \n",
       "1980-12-12 00:00:00-05:00   AAPL  0.128348  0.128906  0.128348  0.128348   \n",
       "1980-12-15 00:00:00-05:00   AAPL  0.121652  0.122210  0.121652  0.122210   \n",
       "1980-12-16 00:00:00-05:00   AAPL  0.112723  0.113281  0.112723  0.113281   \n",
       "1980-12-17 00:00:00-05:00   AAPL  0.115513  0.116071  0.115513  0.115513   \n",
       "1980-12-18 00:00:00-05:00   AAPL  0.118862  0.119420  0.118862  0.118862   \n",
       "\n",
       "                              volume  adjClose  divCash  splitFactor  \n",
       "date                                                                  \n",
       "1980-12-12 00:00:00-05:00  469033600  0.098597      0.0          1.0  \n",
       "1980-12-15 00:00:00-05:00  175884800  0.093453      0.0          1.0  \n",
       "1980-12-16 00:00:00-05:00  105728000  0.086594      0.0          1.0  \n",
       "1980-12-17 00:00:00-05:00   86441600  0.088737      0.0          1.0  \n",
       "1980-12-18 00:00:00-05:00   73449600  0.091310      0.0          1.0  "
      ]
     },
     "execution_count": 30,
     "metadata": {},
     "output_type": "execute_result"
    }
   ],
   "source": [
    "prophet_df.head()"
   ]
  },
  {
   "cell_type": "code",
   "execution_count": 31,
   "id": "9e7f4c9e",
   "metadata": {},
   "outputs": [
    {
     "data": {
      "text/plain": [
       "0    0.128348\n",
       "1    0.121652\n",
       "2    0.112723\n",
       "3    0.115513\n",
       "4    0.118862\n",
       "Name: close, dtype: float64"
      ]
     },
     "execution_count": 31,
     "metadata": {},
     "output_type": "execute_result"
    }
   ],
   "source": [
    "df3.head()"
   ]
  },
  {
   "cell_type": "code",
   "execution_count": 43,
   "id": "fb8f9da4",
   "metadata": {},
   "outputs": [
    {
     "name": "stderr",
     "output_type": "stream",
     "text": [
      "16:37:28 - cmdstanpy - INFO - Chain [1] start processing\n",
      "16:37:30 - cmdstanpy - INFO - Chain [1] done processing\n"
     ]
    },
    {
     "data": {
      "image/png": "[encoded data removed]",
      "text/plain": [
       "<Figure size 1200x600 with 1 Axes>"
      ]
     },
     "metadata": {},
     "output_type": "display_data"
    }
   ],
   "source": [
    "from prophet import Prophet\n",
    "import pandas as pd\n",
    "import matplotlib.pyplot as plt\n",
    "\n",
    "# Step 1: Prepare your data (no reset_index here!)\n",
    "df_prophet = prophet_df[['date', 'close']].copy()\n",
    "\n",
    "# Step 2: Rename columns for Prophet\n",
    "df_prophet['date'] = pd.to_datetime(df_prophet['date']).dt.tz_localize(None)\n",
    "df_prophet.rename(columns={'date': 'ds', 'close': 'y'}, inplace=True)\n",
    "\n",
    "# Step 3: Fit the Prophet model\n",
    "model = Prophet()\n",
    "model.fit(df_prophet)\n",
    "\n",
    "# Step 4: Forecast the next 30 days\n",
    "future = model.make_future_dataframe(periods=30)\n",
    "forecast = model.predict(future)\n",
    "\n",
    "# Step 5: Plot past 50 days + next 30 days\n",
    "plt.figure(figsize=(12, 6))\n",
    "plt.plot(df_prophet['ds'][-50:], df_prophet['y'][-50:], label='Historical (Last 50 Days)', color='blue')\n",
    "plt.plot(forecast['ds'][-30:], forecast['yhat'][-30:], label='Forecast (Next 30 Days)', color='red')\n",
    "plt.fill_between(forecast['ds'][-30:], forecast['yhat_lower'][-30:], forecast['yhat_upper'][-30:], color='pink', alpha=0.3)\n",
    "plt.title(\"Past 50 Days & Next 30 Days Forecast with Prophet\")\n",
    "plt.xlabel(\"Date\")\n",
    "plt.ylabel(\"Price\")\n",
    "plt.legend()\n",
    "plt.grid(True)\n",
    "plt.tight_layout()\n",
    "plt.show()\n"
   ]
  },
  {
   "cell_type": "code",
   "execution_count": null,
   "id": "44dd54e6",
   "metadata": {},
   "outputs": [],
   "source": []
  },
  {
   "cell_type": "code",
   "execution_count": null,
   "id": "b652a4fa",
   "metadata": {},
   "outputs": [],
   "source": []
  },
  {
   "cell_type": "code",
   "execution_count": null,
   "id": "c31aeaa1",
   "metadata": {},
   "outputs": [],
   "source": []
  },
  {
   "cell_type": "code",
   "execution_count": null,
   "id": "a3ff6ea6",
   "metadata": {},
   "outputs": [],
   "source": []
  },
  {
   "cell_type": "markdown",
   "id": "b087a365",
   "metadata": {},
   "source": [
    "# 1. LSTM"
   ]
  },
  {
   "cell_type": "code",
   "execution_count": 10,
   "id": "21ccae83",
   "metadata": {},
   "outputs": [],
   "source": [
    "### LSTM are sensitive to the scale of the data. so we apply MinMax scaler "
   ]
  },
  {
   "cell_type": "code",
   "execution_count": 11,
   "id": "f511f4c1",
   "metadata": {},
   "outputs": [],
   "source": [
    "import numpy as np"
   ]
  },
  {
   "cell_type": "code",
   "execution_count": 12,
   "id": "fb8255f0",
   "metadata": {},
   "outputs": [],
   "source": [
    "from sklearn.preprocessing import MinMaxScaler\n",
    "scaler=MinMaxScaler(feature_range=(0,1))\n",
    "df1=scaler.fit_transform(np.array(df1).reshape(-1,1))"
   ]
  },
  {
   "cell_type": "code",
   "execution_count": 13,
   "id": "985aff3b",
   "metadata": {},
   "outputs": [
    {
     "name": "stdout",
     "output_type": "stream",
     "text": [
      "[[3.05984179e-04]\n",
      " [2.80128016e-04]\n",
      " [2.45649239e-04]\n",
      " ...\n",
      " [8.11330197e-01]\n",
      " [8.10789598e-01]\n",
      " [8.15268821e-01]]\n"
     ]
    }
   ],
   "source": [
    "print(df1)"
   ]
  },
  {
   "cell_type": "code",
   "execution_count": 14,
   "id": "2a3c3771",
   "metadata": {},
   "outputs": [],
   "source": [
    "##splitting dataset into train and test split\n",
    "training_size=int(len(df1)*0.65)\n",
    "test_size=len(df1)-training_size\n",
    "train_data,test_data=df1[0:training_size,:],df1[training_size:len(df1),:1]"
   ]
  },
  {
   "cell_type": "code",
   "execution_count": 15,
   "id": "82258520",
   "metadata": {},
   "outputs": [
    {
     "data": {
      "text/plain": [
       "(7306, 3934)"
      ]
     },
     "execution_count": 15,
     "metadata": {},
     "output_type": "execute_result"
    }
   ],
   "source": [
    "training_size,test_size"
   ]
  },
  {
   "cell_type": "code",
   "execution_count": 16,
   "id": "0ef9674b",
   "metadata": {},
   "outputs": [
    {
     "data": {
      "text/plain": [
       "array([[0.00030598],\n",
       "       [0.00028013],\n",
       "       [0.00024565],\n",
       "       ...,\n",
       "       [0.02738104],\n",
       "       [0.02820298],\n",
       "       [0.02800439]])"
      ]
     },
     "execution_count": 16,
     "metadata": {},
     "output_type": "execute_result"
    }
   ],
   "source": [
    "train_data"
   ]
  },
  {
   "cell_type": "code",
   "execution_count": 17,
   "id": "ceaf99bb",
   "metadata": {},
   "outputs": [],
   "source": [
    "import numpy\n",
    "# convert an array of values into a dataset matrix\n",
    "def create_dataset(dataset, time_step=1):\n",
    "    dataX, dataY = [], []\n",
    "    for i in range(len(dataset)-time_step-1):\n",
    "        a = dataset[i:(i+time_step), 0]   ###i=0, 0,1,2,3-----99   100 \n",
    "        dataX.append(a)\n",
    "        dataY.append(dataset[i + time_step, 0])\n",
    "    return numpy.array(dataX), numpy.array(dataY)"
   ]
  },
  {
   "cell_type": "code",
   "execution_count": 18,
   "id": "12d8aee8",
   "metadata": {},
   "outputs": [],
   "source": [
    "# reshape into X=t,t+1,t+2,t+3 and Y=t+4\n",
    "time_step = 100\n",
    "X_train, y_train = create_dataset(train_data, time_step)\n",
    "X_test, ytest = create_dataset(test_data, time_step)"
   ]
  },
  {
   "cell_type": "code",
   "execution_count": 19,
   "id": "8a12cb9f",
   "metadata": {},
   "outputs": [
    {
     "name": "stdout",
     "output_type": "stream",
     "text": [
      "(7205, 100)\n",
      "(7205,)\n"
     ]
    },
    {
     "data": {
      "text/plain": [
       "(None, None)"
      ]
     },
     "execution_count": 19,
     "metadata": {},
     "output_type": "execute_result"
    }
   ],
   "source": [
    "print(X_train.shape), print(y_train.shape)"
   ]
  },
  {
   "cell_type": "code",
   "execution_count": 20,
   "id": "c83a4f9f",
   "metadata": {},
   "outputs": [
    {
     "name": "stdout",
     "output_type": "stream",
     "text": [
      "(3833, 100)\n",
      "(3833,)\n"
     ]
    },
    {
     "data": {
      "text/plain": [
       "(None, None)"
      ]
     },
     "execution_count": 20,
     "metadata": {},
     "output_type": "execute_result"
    }
   ],
   "source": [
    "print(X_test.shape), print(ytest.shape)"
   ]
  },
  {
   "cell_type": "code",
   "execution_count": 21,
   "id": "65068dde",
   "metadata": {},
   "outputs": [],
   "source": [
    "# reshape input to be [samples, time steps, features] which is required for LSTM\n",
    "X_train =X_train.reshape(X_train.shape[0],X_train.shape[1] , 1)\n",
    "X_test = X_test.reshape(X_test.shape[0],X_test.shape[1] , 1)"
   ]
  },
  {
   "cell_type": "code",
   "execution_count": 22,
   "id": "434aa419",
   "metadata": {},
   "outputs": [],
   "source": [
    "### Create the Stacked LSTM model\n",
    "from tensorflow.keras.models import Sequential\n",
    "from tensorflow.keras.layers import Dense\n",
    "from tensorflow.keras.layers import LSTM"
   ]
  },
  {
   "cell_type": "code",
   "execution_count": 23,
   "id": "a41278c4",
   "metadata": {},
   "outputs": [],
   "source": [
    "from keras.layers import Dropout\n",
    "\n",
    "model = Sequential()\n",
    "model.add(LSTM(50, return_sequences=True, input_shape=(100, 1)))\n",
    "model.add(Dropout(0.2))\n",
    "\n",
    "model.add(LSTM(50, return_sequences=True))\n",
    "model.add(Dropout(0.2))\n",
    "\n",
    "model.add(LSTM(50))\n",
    "model.add(Dropout(0.2))\n",
    "\n",
    "model.add(Dense(1))\n",
    "model.compile(loss='mean_squared_error', optimizer='adam')\n",
    "\n"
   ]
  },
  {
   "cell_type": "code",
   "execution_count": 24,
   "id": "24b0492d",
   "metadata": {},
   "outputs": [
    {
     "ename": "ValueError",
     "evalue": "Input 0 of layer \"lstm_3\" is incompatible with the layer: expected ndim=3, found ndim=2. Full shape received: (None, 1)",
     "output_type": "error",
     "traceback": [
      "\u001b[0;31m---------------------------------------------------------------------------\u001b[0m",
      "\u001b[0;31mValueError\u001b[0m                                Traceback (most recent call last)",
      "Cell \u001b[0;32mIn[24], line 1\u001b[0m\n\u001b[0;32m----> 1\u001b[0m model\u001b[38;5;241m.\u001b[39madd(LSTM(\u001b[38;5;241m100\u001b[39m, return_sequences\u001b[38;5;241m=\u001b[39m\u001b[38;5;28;01mTrue\u001b[39;00m, input_shape\u001b[38;5;241m=\u001b[39m(\u001b[38;5;241m100\u001b[39m, \u001b[38;5;241m1\u001b[39m)))\n",
      "File \u001b[0;32m~/anaconda3/lib/python3.11/site-packages/tensorflow/python/trackable/base.py:204\u001b[0m, in \u001b[0;36mno_automatic_dependency_tracking.<locals>._method_wrapper\u001b[0;34m(self, *args, **kwargs)\u001b[0m\n\u001b[1;32m    202\u001b[0m \u001b[38;5;28mself\u001b[39m\u001b[38;5;241m.\u001b[39m_self_setattr_tracking \u001b[38;5;241m=\u001b[39m \u001b[38;5;28;01mFalse\u001b[39;00m  \u001b[38;5;66;03m# pylint: disable=protected-access\u001b[39;00m\n\u001b[1;32m    203\u001b[0m \u001b[38;5;28;01mtry\u001b[39;00m:\n\u001b[0;32m--> 204\u001b[0m   result \u001b[38;5;241m=\u001b[39m method(\u001b[38;5;28mself\u001b[39m, \u001b[38;5;241m*\u001b[39margs, \u001b[38;5;241m*\u001b[39m\u001b[38;5;241m*\u001b[39mkwargs)\n\u001b[1;32m    205\u001b[0m \u001b[38;5;28;01mfinally\u001b[39;00m:\n\u001b[1;32m    206\u001b[0m   \u001b[38;5;28mself\u001b[39m\u001b[38;5;241m.\u001b[39m_self_setattr_tracking \u001b[38;5;241m=\u001b[39m previous_value  \u001b[38;5;66;03m# pylint: disable=protected-access\u001b[39;00m\n",
      "File \u001b[0;32m~/anaconda3/lib/python3.11/site-packages/keras/src/utils/traceback_utils.py:70\u001b[0m, in \u001b[0;36mfilter_traceback.<locals>.error_handler\u001b[0;34m(*args, **kwargs)\u001b[0m\n\u001b[1;32m     67\u001b[0m     filtered_tb \u001b[38;5;241m=\u001b[39m _process_traceback_frames(e\u001b[38;5;241m.\u001b[39m__traceback__)\n\u001b[1;32m     68\u001b[0m     \u001b[38;5;66;03m# To get the full stack trace, call:\u001b[39;00m\n\u001b[1;32m     69\u001b[0m     \u001b[38;5;66;03m# `tf.debugging.disable_traceback_filtering()`\u001b[39;00m\n\u001b[0;32m---> 70\u001b[0m     \u001b[38;5;28;01mraise\u001b[39;00m e\u001b[38;5;241m.\u001b[39mwith_traceback(filtered_tb) \u001b[38;5;28;01mfrom\u001b[39;00m \u001b[38;5;28;01mNone\u001b[39;00m\n\u001b[1;32m     71\u001b[0m \u001b[38;5;28;01mfinally\u001b[39;00m:\n\u001b[1;32m     72\u001b[0m     \u001b[38;5;28;01mdel\u001b[39;00m filtered_tb\n",
      "File \u001b[0;32m~/anaconda3/lib/python3.11/site-packages/keras/src/engine/input_spec.py:235\u001b[0m, in \u001b[0;36massert_input_compatibility\u001b[0;34m(input_spec, inputs, layer_name)\u001b[0m\n\u001b[1;32m    233\u001b[0m     ndim \u001b[38;5;241m=\u001b[39m shape\u001b[38;5;241m.\u001b[39mrank\n\u001b[1;32m    234\u001b[0m     \u001b[38;5;28;01mif\u001b[39;00m ndim \u001b[38;5;241m!=\u001b[39m spec\u001b[38;5;241m.\u001b[39mndim:\n\u001b[0;32m--> 235\u001b[0m         \u001b[38;5;28;01mraise\u001b[39;00m \u001b[38;5;167;01mValueError\u001b[39;00m(\n\u001b[1;32m    236\u001b[0m             \u001b[38;5;124mf\u001b[39m\u001b[38;5;124m'\u001b[39m\u001b[38;5;124mInput \u001b[39m\u001b[38;5;132;01m{\u001b[39;00minput_index\u001b[38;5;132;01m}\u001b[39;00m\u001b[38;5;124m of layer \u001b[39m\u001b[38;5;124m\"\u001b[39m\u001b[38;5;132;01m{\u001b[39;00mlayer_name\u001b[38;5;132;01m}\u001b[39;00m\u001b[38;5;124m\"\u001b[39m\u001b[38;5;124m \u001b[39m\u001b[38;5;124m'\u001b[39m\n\u001b[1;32m    237\u001b[0m             \u001b[38;5;124m\"\u001b[39m\u001b[38;5;124mis incompatible with the layer: \u001b[39m\u001b[38;5;124m\"\u001b[39m\n\u001b[1;32m    238\u001b[0m             \u001b[38;5;124mf\u001b[39m\u001b[38;5;124m\"\u001b[39m\u001b[38;5;124mexpected ndim=\u001b[39m\u001b[38;5;132;01m{\u001b[39;00mspec\u001b[38;5;241m.\u001b[39mndim\u001b[38;5;132;01m}\u001b[39;00m\u001b[38;5;124m, found ndim=\u001b[39m\u001b[38;5;132;01m{\u001b[39;00mndim\u001b[38;5;132;01m}\u001b[39;00m\u001b[38;5;124m. \u001b[39m\u001b[38;5;124m\"\u001b[39m\n\u001b[1;32m    239\u001b[0m             \u001b[38;5;124mf\u001b[39m\u001b[38;5;124m\"\u001b[39m\u001b[38;5;124mFull shape received: \u001b[39m\u001b[38;5;132;01m{\u001b[39;00m\u001b[38;5;28mtuple\u001b[39m(shape)\u001b[38;5;132;01m}\u001b[39;00m\u001b[38;5;124m\"\u001b[39m\n\u001b[1;32m    240\u001b[0m         )\n\u001b[1;32m    241\u001b[0m \u001b[38;5;28;01mif\u001b[39;00m spec\u001b[38;5;241m.\u001b[39mmax_ndim \u001b[38;5;129;01mis\u001b[39;00m \u001b[38;5;129;01mnot\u001b[39;00m \u001b[38;5;28;01mNone\u001b[39;00m:\n\u001b[1;32m    242\u001b[0m     ndim \u001b[38;5;241m=\u001b[39m x\u001b[38;5;241m.\u001b[39mshape\u001b[38;5;241m.\u001b[39mrank\n",
      "\u001b[0;31mValueError\u001b[0m: Input 0 of layer \"lstm_3\" is incompatible with the layer: expected ndim=3, found ndim=2. Full shape received: (None, 1)"
     ]
    }
   ],
   "source": [
    "model.add(LSTM(100, return_sequences=True, input_shape=(100, 1)))"
   ]
  },
  {
   "cell_type": "code",
   "execution_count": 25,
   "id": "899c1615",
   "metadata": {},
   "outputs": [
    {
     "name": "stderr",
     "output_type": "stream",
     "text": [
      "WARNING:absl:At this time, the v2.11+ optimizer `tf.keras.optimizers.Adam` runs slowly on M1/M2 Macs, please use the legacy Keras optimizer instead, located at `tf.keras.optimizers.legacy.Adam`.\n"
     ]
    }
   ],
   "source": [
    "from keras.optimizers import Adam\n",
    "optimizer = Adam(learning_rate=0.0005)\n",
    "model.compile(loss='mean_squared_error', optimizer=optimizer)\n"
   ]
  },
  {
   "cell_type": "code",
   "execution_count": 27,
   "id": "5b9f39c8",
   "metadata": {},
   "outputs": [
    {
     "name": "stdout",
     "output_type": "stream",
     "text": [
      "Epoch 1/50\n",
      "113/113 [==============================] - 11s 84ms/step - loss: 6.5466e-06 - val_loss: 0.0031\n",
      "Epoch 2/50\n",
      "113/113 [==============================] - 9s 80ms/step - loss: 1.4028e-06 - val_loss: 0.0025\n",
      "Epoch 3/50\n",
      "113/113 [==============================] - 9s 81ms/step - loss: 1.0348e-06 - val_loss: 0.0036\n",
      "Epoch 4/50\n",
      "113/113 [==============================] - 9s 81ms/step - loss: 9.7831e-07 - val_loss: 0.0019\n",
      "Epoch 5/50\n",
      "113/113 [==============================] - 9s 82ms/step - loss: 9.1254e-07 - val_loss: 0.0028\n",
      "Epoch 6/50\n",
      "113/113 [==============================] - 9s 83ms/step - loss: 8.7647e-07 - val_loss: 0.0018\n",
      "Epoch 7/50\n",
      "113/113 [==============================] - 9s 84ms/step - loss: 9.6918e-07 - val_loss: 0.0018\n",
      "Epoch 8/50\n",
      "113/113 [==============================] - 10s 85ms/step - loss: 8.4275e-07 - val_loss: 0.0023\n",
      "Epoch 9/50\n",
      " 14/113 [==>...........................] - ETA: 7s - loss: 7.6782e-07"
     ]
    },
    {
     "ename": "KeyboardInterrupt",
     "evalue": "",
     "output_type": "error",
     "traceback": [
      "\u001b[0;31m---------------------------------------------------------------------------\u001b[0m",
      "\u001b[0;31mKeyboardInterrupt\u001b[0m                         Traceback (most recent call last)",
      "Cell \u001b[0;32mIn[27], line 1\u001b[0m\n\u001b[0;32m----> 1\u001b[0m model\u001b[38;5;241m.\u001b[39mfit(X_train,y_train,validation_data\u001b[38;5;241m=\u001b[39m(X_test,ytest),epochs\u001b[38;5;241m=\u001b[39m\u001b[38;5;241m50\u001b[39m,batch_size\u001b[38;5;241m=\u001b[39m\u001b[38;5;241m64\u001b[39m,verbose\u001b[38;5;241m=\u001b[39m\u001b[38;5;241m1\u001b[39m)\n",
      "File \u001b[0;32m~/anaconda3/lib/python3.11/site-packages/keras/src/utils/traceback_utils.py:65\u001b[0m, in \u001b[0;36mfilter_traceback.<locals>.error_handler\u001b[0;34m(*args, **kwargs)\u001b[0m\n\u001b[1;32m     63\u001b[0m filtered_tb \u001b[38;5;241m=\u001b[39m \u001b[38;5;28;01mNone\u001b[39;00m\n\u001b[1;32m     64\u001b[0m \u001b[38;5;28;01mtry\u001b[39;00m:\n\u001b[0;32m---> 65\u001b[0m     \u001b[38;5;28;01mreturn\u001b[39;00m fn(\u001b[38;5;241m*\u001b[39margs, \u001b[38;5;241m*\u001b[39m\u001b[38;5;241m*\u001b[39mkwargs)\n\u001b[1;32m     66\u001b[0m \u001b[38;5;28;01mexcept\u001b[39;00m \u001b[38;5;167;01mException\u001b[39;00m \u001b[38;5;28;01mas\u001b[39;00m e:\n\u001b[1;32m     67\u001b[0m     filtered_tb \u001b[38;5;241m=\u001b[39m _process_traceback_frames(e\u001b[38;5;241m.\u001b[39m__traceback__)\n",
      "File \u001b[0;32m~/anaconda3/lib/python3.11/site-packages/keras/src/engine/training.py:1807\u001b[0m, in \u001b[0;36mModel.fit\u001b[0;34m(self, x, y, batch_size, epochs, verbose, callbacks, validation_split, validation_data, shuffle, class_weight, sample_weight, initial_epoch, steps_per_epoch, validation_steps, validation_batch_size, validation_freq, max_queue_size, workers, use_multiprocessing)\u001b[0m\n\u001b[1;32m   1799\u001b[0m \u001b[38;5;28;01mwith\u001b[39;00m tf\u001b[38;5;241m.\u001b[39mprofiler\u001b[38;5;241m.\u001b[39mexperimental\u001b[38;5;241m.\u001b[39mTrace(\n\u001b[1;32m   1800\u001b[0m     \u001b[38;5;124m\"\u001b[39m\u001b[38;5;124mtrain\u001b[39m\u001b[38;5;124m\"\u001b[39m,\n\u001b[1;32m   1801\u001b[0m     epoch_num\u001b[38;5;241m=\u001b[39mepoch,\n\u001b[0;32m   (...)\u001b[0m\n\u001b[1;32m   1804\u001b[0m     _r\u001b[38;5;241m=\u001b[39m\u001b[38;5;241m1\u001b[39m,\n\u001b[1;32m   1805\u001b[0m ):\n\u001b[1;32m   1806\u001b[0m     callbacks\u001b[38;5;241m.\u001b[39mon_train_batch_begin(step)\n\u001b[0;32m-> 1807\u001b[0m     tmp_logs \u001b[38;5;241m=\u001b[39m \u001b[38;5;28mself\u001b[39m\u001b[38;5;241m.\u001b[39mtrain_function(iterator)\n\u001b[1;32m   1808\u001b[0m     \u001b[38;5;28;01mif\u001b[39;00m data_handler\u001b[38;5;241m.\u001b[39mshould_sync:\n\u001b[1;32m   1809\u001b[0m         context\u001b[38;5;241m.\u001b[39masync_wait()\n",
      "File \u001b[0;32m~/anaconda3/lib/python3.11/site-packages/tensorflow/python/util/traceback_utils.py:150\u001b[0m, in \u001b[0;36mfilter_traceback.<locals>.error_handler\u001b[0;34m(*args, **kwargs)\u001b[0m\n\u001b[1;32m    148\u001b[0m filtered_tb \u001b[38;5;241m=\u001b[39m \u001b[38;5;28;01mNone\u001b[39;00m\n\u001b[1;32m    149\u001b[0m \u001b[38;5;28;01mtry\u001b[39;00m:\n\u001b[0;32m--> 150\u001b[0m   \u001b[38;5;28;01mreturn\u001b[39;00m fn(\u001b[38;5;241m*\u001b[39margs, \u001b[38;5;241m*\u001b[39m\u001b[38;5;241m*\u001b[39mkwargs)\n\u001b[1;32m    151\u001b[0m \u001b[38;5;28;01mexcept\u001b[39;00m \u001b[38;5;167;01mException\u001b[39;00m \u001b[38;5;28;01mas\u001b[39;00m e:\n\u001b[1;32m    152\u001b[0m   filtered_tb \u001b[38;5;241m=\u001b[39m _process_traceback_frames(e\u001b[38;5;241m.\u001b[39m__traceback__)\n",
      "File \u001b[0;32m~/anaconda3/lib/python3.11/site-packages/tensorflow/python/eager/polymorphic_function/polymorphic_function.py:832\u001b[0m, in \u001b[0;36mFunction.__call__\u001b[0;34m(self, *args, **kwds)\u001b[0m\n\u001b[1;32m    829\u001b[0m compiler \u001b[38;5;241m=\u001b[39m \u001b[38;5;124m\"\u001b[39m\u001b[38;5;124mxla\u001b[39m\u001b[38;5;124m\"\u001b[39m \u001b[38;5;28;01mif\u001b[39;00m \u001b[38;5;28mself\u001b[39m\u001b[38;5;241m.\u001b[39m_jit_compile \u001b[38;5;28;01melse\u001b[39;00m \u001b[38;5;124m\"\u001b[39m\u001b[38;5;124mnonXla\u001b[39m\u001b[38;5;124m\"\u001b[39m\n\u001b[1;32m    831\u001b[0m \u001b[38;5;28;01mwith\u001b[39;00m OptionalXlaContext(\u001b[38;5;28mself\u001b[39m\u001b[38;5;241m.\u001b[39m_jit_compile):\n\u001b[0;32m--> 832\u001b[0m   result \u001b[38;5;241m=\u001b[39m \u001b[38;5;28mself\u001b[39m\u001b[38;5;241m.\u001b[39m_call(\u001b[38;5;241m*\u001b[39margs, \u001b[38;5;241m*\u001b[39m\u001b[38;5;241m*\u001b[39mkwds)\n\u001b[1;32m    834\u001b[0m new_tracing_count \u001b[38;5;241m=\u001b[39m \u001b[38;5;28mself\u001b[39m\u001b[38;5;241m.\u001b[39mexperimental_get_tracing_count()\n\u001b[1;32m    835\u001b[0m without_tracing \u001b[38;5;241m=\u001b[39m (tracing_count \u001b[38;5;241m==\u001b[39m new_tracing_count)\n",
      "File \u001b[0;32m~/anaconda3/lib/python3.11/site-packages/tensorflow/python/eager/polymorphic_function/polymorphic_function.py:868\u001b[0m, in \u001b[0;36mFunction._call\u001b[0;34m(self, *args, **kwds)\u001b[0m\n\u001b[1;32m    865\u001b[0m   \u001b[38;5;28mself\u001b[39m\u001b[38;5;241m.\u001b[39m_lock\u001b[38;5;241m.\u001b[39mrelease()\n\u001b[1;32m    866\u001b[0m   \u001b[38;5;66;03m# In this case we have created variables on the first call, so we run the\u001b[39;00m\n\u001b[1;32m    867\u001b[0m   \u001b[38;5;66;03m# defunned version which is guaranteed to never create variables.\u001b[39;00m\n\u001b[0;32m--> 868\u001b[0m   \u001b[38;5;28;01mreturn\u001b[39;00m tracing_compilation\u001b[38;5;241m.\u001b[39mcall_function(\n\u001b[1;32m    869\u001b[0m       args, kwds, \u001b[38;5;28mself\u001b[39m\u001b[38;5;241m.\u001b[39m_no_variable_creation_config\n\u001b[1;32m    870\u001b[0m   )\n\u001b[1;32m    871\u001b[0m \u001b[38;5;28;01melif\u001b[39;00m \u001b[38;5;28mself\u001b[39m\u001b[38;5;241m.\u001b[39m_variable_creation_config \u001b[38;5;129;01mis\u001b[39;00m \u001b[38;5;129;01mnot\u001b[39;00m \u001b[38;5;28;01mNone\u001b[39;00m:\n\u001b[1;32m    872\u001b[0m   \u001b[38;5;66;03m# Release the lock early so that multiple threads can perform the call\u001b[39;00m\n\u001b[1;32m    873\u001b[0m   \u001b[38;5;66;03m# in parallel.\u001b[39;00m\n\u001b[1;32m    874\u001b[0m   \u001b[38;5;28mself\u001b[39m\u001b[38;5;241m.\u001b[39m_lock\u001b[38;5;241m.\u001b[39mrelease()\n",
      "File \u001b[0;32m~/anaconda3/lib/python3.11/site-packages/tensorflow/python/eager/polymorphic_function/tracing_compilation.py:139\u001b[0m, in \u001b[0;36mcall_function\u001b[0;34m(args, kwargs, tracing_options)\u001b[0m\n\u001b[1;32m    137\u001b[0m bound_args \u001b[38;5;241m=\u001b[39m function\u001b[38;5;241m.\u001b[39mfunction_type\u001b[38;5;241m.\u001b[39mbind(\u001b[38;5;241m*\u001b[39margs, \u001b[38;5;241m*\u001b[39m\u001b[38;5;241m*\u001b[39mkwargs)\n\u001b[1;32m    138\u001b[0m flat_inputs \u001b[38;5;241m=\u001b[39m function\u001b[38;5;241m.\u001b[39mfunction_type\u001b[38;5;241m.\u001b[39munpack_inputs(bound_args)\n\u001b[0;32m--> 139\u001b[0m \u001b[38;5;28;01mreturn\u001b[39;00m function\u001b[38;5;241m.\u001b[39m_call_flat(  \u001b[38;5;66;03m# pylint: disable=protected-access\u001b[39;00m\n\u001b[1;32m    140\u001b[0m     flat_inputs, captured_inputs\u001b[38;5;241m=\u001b[39mfunction\u001b[38;5;241m.\u001b[39mcaptured_inputs\n\u001b[1;32m    141\u001b[0m )\n",
      "File \u001b[0;32m~/anaconda3/lib/python3.11/site-packages/tensorflow/python/eager/polymorphic_function/concrete_function.py:1323\u001b[0m, in \u001b[0;36mConcreteFunction._call_flat\u001b[0;34m(self, tensor_inputs, captured_inputs)\u001b[0m\n\u001b[1;32m   1319\u001b[0m possible_gradient_type \u001b[38;5;241m=\u001b[39m gradients_util\u001b[38;5;241m.\u001b[39mPossibleTapeGradientTypes(args)\n\u001b[1;32m   1320\u001b[0m \u001b[38;5;28;01mif\u001b[39;00m (possible_gradient_type \u001b[38;5;241m==\u001b[39m gradients_util\u001b[38;5;241m.\u001b[39mPOSSIBLE_GRADIENT_TYPES_NONE\n\u001b[1;32m   1321\u001b[0m     \u001b[38;5;129;01mand\u001b[39;00m executing_eagerly):\n\u001b[1;32m   1322\u001b[0m   \u001b[38;5;66;03m# No tape is watching; skip to running the function.\u001b[39;00m\n\u001b[0;32m-> 1323\u001b[0m   \u001b[38;5;28;01mreturn\u001b[39;00m \u001b[38;5;28mself\u001b[39m\u001b[38;5;241m.\u001b[39m_inference_function\u001b[38;5;241m.\u001b[39mcall_preflattened(args)\n\u001b[1;32m   1324\u001b[0m forward_backward \u001b[38;5;241m=\u001b[39m \u001b[38;5;28mself\u001b[39m\u001b[38;5;241m.\u001b[39m_select_forward_and_backward_functions(\n\u001b[1;32m   1325\u001b[0m     args,\n\u001b[1;32m   1326\u001b[0m     possible_gradient_type,\n\u001b[1;32m   1327\u001b[0m     executing_eagerly)\n\u001b[1;32m   1328\u001b[0m forward_function, args_with_tangents \u001b[38;5;241m=\u001b[39m forward_backward\u001b[38;5;241m.\u001b[39mforward()\n",
      "File \u001b[0;32m~/anaconda3/lib/python3.11/site-packages/tensorflow/python/eager/polymorphic_function/atomic_function.py:216\u001b[0m, in \u001b[0;36mAtomicFunction.call_preflattened\u001b[0;34m(self, args)\u001b[0m\n\u001b[1;32m    214\u001b[0m \u001b[38;5;28;01mdef\u001b[39;00m \u001b[38;5;21mcall_preflattened\u001b[39m(\u001b[38;5;28mself\u001b[39m, args: Sequence[core\u001b[38;5;241m.\u001b[39mTensor]) \u001b[38;5;241m-\u001b[39m\u001b[38;5;241m>\u001b[39m Any:\n\u001b[1;32m    215\u001b[0m \u001b[38;5;250m  \u001b[39m\u001b[38;5;124;03m\"\"\"Calls with flattened tensor inputs and returns the structured output.\"\"\"\u001b[39;00m\n\u001b[0;32m--> 216\u001b[0m   flat_outputs \u001b[38;5;241m=\u001b[39m \u001b[38;5;28mself\u001b[39m\u001b[38;5;241m.\u001b[39mcall_flat(\u001b[38;5;241m*\u001b[39margs)\n\u001b[1;32m    217\u001b[0m   \u001b[38;5;28;01mreturn\u001b[39;00m \u001b[38;5;28mself\u001b[39m\u001b[38;5;241m.\u001b[39mfunction_type\u001b[38;5;241m.\u001b[39mpack_output(flat_outputs)\n",
      "File \u001b[0;32m~/anaconda3/lib/python3.11/site-packages/tensorflow/python/eager/polymorphic_function/atomic_function.py:251\u001b[0m, in \u001b[0;36mAtomicFunction.call_flat\u001b[0;34m(self, *args)\u001b[0m\n\u001b[1;32m    249\u001b[0m \u001b[38;5;28;01mwith\u001b[39;00m record\u001b[38;5;241m.\u001b[39mstop_recording():\n\u001b[1;32m    250\u001b[0m   \u001b[38;5;28;01mif\u001b[39;00m \u001b[38;5;28mself\u001b[39m\u001b[38;5;241m.\u001b[39m_bound_context\u001b[38;5;241m.\u001b[39mexecuting_eagerly():\n\u001b[0;32m--> 251\u001b[0m     outputs \u001b[38;5;241m=\u001b[39m \u001b[38;5;28mself\u001b[39m\u001b[38;5;241m.\u001b[39m_bound_context\u001b[38;5;241m.\u001b[39mcall_function(\n\u001b[1;32m    252\u001b[0m         \u001b[38;5;28mself\u001b[39m\u001b[38;5;241m.\u001b[39mname,\n\u001b[1;32m    253\u001b[0m         \u001b[38;5;28mlist\u001b[39m(args),\n\u001b[1;32m    254\u001b[0m         \u001b[38;5;28mlen\u001b[39m(\u001b[38;5;28mself\u001b[39m\u001b[38;5;241m.\u001b[39mfunction_type\u001b[38;5;241m.\u001b[39mflat_outputs),\n\u001b[1;32m    255\u001b[0m     )\n\u001b[1;32m    256\u001b[0m   \u001b[38;5;28;01melse\u001b[39;00m:\n\u001b[1;32m    257\u001b[0m     outputs \u001b[38;5;241m=\u001b[39m make_call_op_in_graph(\n\u001b[1;32m    258\u001b[0m         \u001b[38;5;28mself\u001b[39m,\n\u001b[1;32m    259\u001b[0m         \u001b[38;5;28mlist\u001b[39m(args),\n\u001b[1;32m    260\u001b[0m         \u001b[38;5;28mself\u001b[39m\u001b[38;5;241m.\u001b[39m_bound_context\u001b[38;5;241m.\u001b[39mfunction_call_options\u001b[38;5;241m.\u001b[39mas_attrs(),\n\u001b[1;32m    261\u001b[0m     )\n",
      "File \u001b[0;32m~/anaconda3/lib/python3.11/site-packages/tensorflow/python/eager/context.py:1486\u001b[0m, in \u001b[0;36mContext.call_function\u001b[0;34m(self, name, tensor_inputs, num_outputs)\u001b[0m\n\u001b[1;32m   1484\u001b[0m cancellation_context \u001b[38;5;241m=\u001b[39m cancellation\u001b[38;5;241m.\u001b[39mcontext()\n\u001b[1;32m   1485\u001b[0m \u001b[38;5;28;01mif\u001b[39;00m cancellation_context \u001b[38;5;129;01mis\u001b[39;00m \u001b[38;5;28;01mNone\u001b[39;00m:\n\u001b[0;32m-> 1486\u001b[0m   outputs \u001b[38;5;241m=\u001b[39m execute\u001b[38;5;241m.\u001b[39mexecute(\n\u001b[1;32m   1487\u001b[0m       name\u001b[38;5;241m.\u001b[39mdecode(\u001b[38;5;124m\"\u001b[39m\u001b[38;5;124mutf-8\u001b[39m\u001b[38;5;124m\"\u001b[39m),\n\u001b[1;32m   1488\u001b[0m       num_outputs\u001b[38;5;241m=\u001b[39mnum_outputs,\n\u001b[1;32m   1489\u001b[0m       inputs\u001b[38;5;241m=\u001b[39mtensor_inputs,\n\u001b[1;32m   1490\u001b[0m       attrs\u001b[38;5;241m=\u001b[39mattrs,\n\u001b[1;32m   1491\u001b[0m       ctx\u001b[38;5;241m=\u001b[39m\u001b[38;5;28mself\u001b[39m,\n\u001b[1;32m   1492\u001b[0m   )\n\u001b[1;32m   1493\u001b[0m \u001b[38;5;28;01melse\u001b[39;00m:\n\u001b[1;32m   1494\u001b[0m   outputs \u001b[38;5;241m=\u001b[39m execute\u001b[38;5;241m.\u001b[39mexecute_with_cancellation(\n\u001b[1;32m   1495\u001b[0m       name\u001b[38;5;241m.\u001b[39mdecode(\u001b[38;5;124m\"\u001b[39m\u001b[38;5;124mutf-8\u001b[39m\u001b[38;5;124m\"\u001b[39m),\n\u001b[1;32m   1496\u001b[0m       num_outputs\u001b[38;5;241m=\u001b[39mnum_outputs,\n\u001b[0;32m   (...)\u001b[0m\n\u001b[1;32m   1500\u001b[0m       cancellation_manager\u001b[38;5;241m=\u001b[39mcancellation_context,\n\u001b[1;32m   1501\u001b[0m   )\n",
      "File \u001b[0;32m~/anaconda3/lib/python3.11/site-packages/tensorflow/python/eager/execute.py:53\u001b[0m, in \u001b[0;36mquick_execute\u001b[0;34m(op_name, num_outputs, inputs, attrs, ctx, name)\u001b[0m\n\u001b[1;32m     51\u001b[0m \u001b[38;5;28;01mtry\u001b[39;00m:\n\u001b[1;32m     52\u001b[0m   ctx\u001b[38;5;241m.\u001b[39mensure_initialized()\n\u001b[0;32m---> 53\u001b[0m   tensors \u001b[38;5;241m=\u001b[39m pywrap_tfe\u001b[38;5;241m.\u001b[39mTFE_Py_Execute(ctx\u001b[38;5;241m.\u001b[39m_handle, device_name, op_name,\n\u001b[1;32m     54\u001b[0m                                       inputs, attrs, num_outputs)\n\u001b[1;32m     55\u001b[0m \u001b[38;5;28;01mexcept\u001b[39;00m core\u001b[38;5;241m.\u001b[39m_NotOkStatusException \u001b[38;5;28;01mas\u001b[39;00m e:\n\u001b[1;32m     56\u001b[0m   \u001b[38;5;28;01mif\u001b[39;00m name \u001b[38;5;129;01mis\u001b[39;00m \u001b[38;5;129;01mnot\u001b[39;00m \u001b[38;5;28;01mNone\u001b[39;00m:\n",
      "\u001b[0;31mKeyboardInterrupt\u001b[0m: "
     ]
    }
   ],
   "source": [
    "model.fit(X_train,y_train,validation_data=(X_test,ytest),epochs=50,batch_size=64,verbose=1)"
   ]
  },
  {
   "cell_type": "code",
   "execution_count": 26,
   "id": "db78d436",
   "metadata": {},
   "outputs": [
    {
     "ename": "ValueError",
     "evalue": "This model has not yet been built. Build the model first by calling `build()` or by calling the model on a batch of data.",
     "output_type": "error",
     "traceback": [
      "\u001b[0;31m---------------------------------------------------------------------------\u001b[0m",
      "\u001b[0;31mValueError\u001b[0m                                Traceback (most recent call last)",
      "Cell \u001b[0;32mIn[26], line 1\u001b[0m\n\u001b[0;32m----> 1\u001b[0m model\u001b[38;5;241m.\u001b[39msummary()\n",
      "File \u001b[0;32m~/anaconda3/lib/python3.11/site-packages/keras/src/engine/training.py:3506\u001b[0m, in \u001b[0;36mModel.summary\u001b[0;34m(self, line_length, positions, print_fn, expand_nested, show_trainable, layer_range)\u001b[0m\n\u001b[1;32m   3475\u001b[0m \u001b[38;5;250m\u001b[39m\u001b[38;5;124;03m\"\"\"Prints a string summary of the network.\u001b[39;00m\n\u001b[1;32m   3476\u001b[0m \n\u001b[1;32m   3477\u001b[0m \u001b[38;5;124;03mArgs:\u001b[39;00m\n\u001b[0;32m   (...)\u001b[0m\n\u001b[1;32m   3503\u001b[0m \u001b[38;5;124;03m    ValueError: if `summary()` is called before the model is built.\u001b[39;00m\n\u001b[1;32m   3504\u001b[0m \u001b[38;5;124;03m\"\"\"\u001b[39;00m\n\u001b[1;32m   3505\u001b[0m \u001b[38;5;28;01mif\u001b[39;00m \u001b[38;5;129;01mnot\u001b[39;00m \u001b[38;5;28mself\u001b[39m\u001b[38;5;241m.\u001b[39mbuilt:\n\u001b[0;32m-> 3506\u001b[0m     \u001b[38;5;28;01mraise\u001b[39;00m \u001b[38;5;167;01mValueError\u001b[39;00m(\n\u001b[1;32m   3507\u001b[0m         \u001b[38;5;124m\"\u001b[39m\u001b[38;5;124mThis model has not yet been built. \u001b[39m\u001b[38;5;124m\"\u001b[39m\n\u001b[1;32m   3508\u001b[0m         \u001b[38;5;124m\"\u001b[39m\u001b[38;5;124mBuild the model first by calling `build()` or by calling \u001b[39m\u001b[38;5;124m\"\u001b[39m\n\u001b[1;32m   3509\u001b[0m         \u001b[38;5;124m\"\u001b[39m\u001b[38;5;124mthe model on a batch of data.\u001b[39m\u001b[38;5;124m\"\u001b[39m\n\u001b[1;32m   3510\u001b[0m     )\n\u001b[1;32m   3511\u001b[0m layer_utils\u001b[38;5;241m.\u001b[39mprint_summary(\n\u001b[1;32m   3512\u001b[0m     \u001b[38;5;28mself\u001b[39m,\n\u001b[1;32m   3513\u001b[0m     line_length\u001b[38;5;241m=\u001b[39mline_length,\n\u001b[0;32m   (...)\u001b[0m\n\u001b[1;32m   3518\u001b[0m     layer_range\u001b[38;5;241m=\u001b[39mlayer_range,\n\u001b[1;32m   3519\u001b[0m )\n",
      "\u001b[0;31mValueError\u001b[0m: This model has not yet been built. Build the model first by calling `build()` or by calling the model on a batch of data."
     ]
    }
   ],
   "source": [
    "model.summary()"
   ]
  },
  {
   "cell_type": "code",
   "execution_count": 27,
   "id": "2f115b85",
   "metadata": {},
   "outputs": [],
   "source": [
    "import tensorflow as tf"
   ]
  },
  {
   "cell_type": "code",
   "execution_count": 28,
   "id": "a1b04b43",
   "metadata": {},
   "outputs": [
    {
     "name": "stdout",
     "output_type": "stream",
     "text": [
      "226/226 [==============================] - 3s 12ms/step\n",
      "120/120 [==============================] - 1s 12ms/step\n"
     ]
    }
   ],
   "source": [
    "### Lets Do the prediction and check performance metrics\n",
    "train_predict=model.predict(X_train)\n",
    "test_predict=model.predict(X_test)"
   ]
  },
  {
   "cell_type": "code",
   "execution_count": 29,
   "id": "4723f8e5",
   "metadata": {},
   "outputs": [],
   "source": [
    "##Transformback to original form\n",
    "train_predict=scaler.inverse_transform(train_predict)\n",
    "test_predict=scaler.inverse_transform(test_predict)"
   ]
  },
  {
   "cell_type": "code",
   "execution_count": 30,
   "id": "353103d0",
   "metadata": {},
   "outputs": [
    {
     "data": {
      "text/plain": [
       "1.6866604971636998"
      ]
     },
     "execution_count": 30,
     "metadata": {},
     "output_type": "execute_result"
    }
   ],
   "source": [
    "### Calculate RMSE performance metrics\n",
    "import math\n",
    "from sklearn.metrics import mean_squared_error\n",
    "math.sqrt(mean_squared_error(y_train,train_predict))"
   ]
  },
  {
   "cell_type": "code",
   "execution_count": 31,
   "id": "4e67393b",
   "metadata": {},
   "outputs": [
    {
     "data": {
      "text/plain": [
       "86.1593638018761"
      ]
     },
     "execution_count": 31,
     "metadata": {},
     "output_type": "execute_result"
    }
   ],
   "source": [
    "### Test Data RMSE\n",
    "math.sqrt(mean_squared_error(ytest,test_predict))"
   ]
  },
  {
   "cell_type": "code",
   "execution_count": 32,
   "id": "b2cfc770",
   "metadata": {},
   "outputs": [
    {
     "data": {
      "image/png": "[encoded data removed]",
      "text/plain": [
       "<Figure size 640x480 with 1 Axes>"
      ]
     },
     "metadata": {},
     "output_type": "display_data"
    }
   ],
   "source": [
    "### Plotting \n",
    "# shift train predictions for plotting\n",
    "look_back=100\n",
    "trainPredictPlot = numpy.empty_like(df1)\n",
    "trainPredictPlot[:, :] = np.nan\n",
    "trainPredictPlot[look_back:len(train_predict)+look_back, :] = train_predict\n",
    "# shift test predictions for plotting\n",
    "testPredictPlot = numpy.empty_like(df1)\n",
    "testPredictPlot[:, :] = numpy.nan\n",
    "testPredictPlot[len(train_predict)+(look_back*2)+1:len(df1)-1, :] = test_predict\n",
    "# plot baseline and predictions\n",
    "plt.plot(scaler.inverse_transform(df1))\n",
    "plt.plot(trainPredictPlot)\n",
    "plt.plot(testPredictPlot)\n",
    "plt.show()"
   ]
  },
  {
   "cell_type": "code",
   "execution_count": 33,
   "id": "b7deb219",
   "metadata": {},
   "outputs": [
    {
     "data": {
      "text/plain": [
       "3934"
      ]
     },
     "execution_count": 33,
     "metadata": {},
     "output_type": "execute_result"
    }
   ],
   "source": [
    "len(test_data)"
   ]
  },
  {
   "cell_type": "code",
   "execution_count": 34,
   "id": "1f409e3e",
   "metadata": {},
   "outputs": [
    {
     "data": {
      "text/plain": [
       "(1, 3593)"
      ]
     },
     "execution_count": 34,
     "metadata": {},
     "output_type": "execute_result"
    }
   ],
   "source": [
    "x_input=test_data[341:].reshape(1,-1)\n",
    "x_input.shape\n"
   ]
  },
  {
   "cell_type": "code",
   "execution_count": 35,
   "id": "ea62395d",
   "metadata": {},
   "outputs": [],
   "source": [
    "temp_input=list(x_input)\n",
    "temp_input=temp_input[0].tolist()"
   ]
  },
  {
   "cell_type": "code",
   "execution_count": 36,
   "id": "02db7273",
   "metadata": {},
   "outputs": [
    {
     "data": {
      "text/plain": [
       "[0.04654618762528942,\n",
       " 0.04642896455911371,\n",
       " 0.04643448470790101,\n",
       " 0.04601799887241237,\n",
       " 0.04543050994880689,\n",
       " 0.04565116491557562,\n",
       " 0.04616556250286999,\n",
       " 0.045653919466137935,\n",
       " 0.044969892383453655,\n",
       " 0.04557531166359374,\n",
       " 0.046404144143619104,\n",
       " 0.04703162560613726,\n",
       " 0.048174885613785155,\n",
       " 0.048493456014913845,\n",
       " 0.04813627403270787,\n",
       " 0.0480990360443575,\n",
       " 0.047630151144763114,\n",
       " 0.0480962814937952,\n",
       " 0.04756533082524738,\n",
       " 0.047830113839326484,\n",
       " 0.048019050966532154,\n",
       " 0.047630151144763114,\n",
       " 0.047617737254461584,\n",
       " 0.0477473705283846,\n",
       " 0.048002501567832936,\n",
       " 0.04769634137445155,\n",
       " 0.047605323364160054,\n",
       " 0.04676821986733931,\n",
       " 0.04577527804071133,\n",
       " 0.046166939778151145,\n",
       " 0.046681337365445504,\n",
       " 0.046772359058291225,\n",
       " 0.04604006473734466,\n",
       " 0.04592697717956665,\n",
       " 0.04562220162657487,\n",
       " 0.0462551995553261,\n",
       " 0.04600972417306276,\n",
       " 0.0463420820572199,\n",
       " 0.04777908836794766,\n",
       " 0.04745914069153782,\n",
       " 0.04754050672719855,\n",
       " 0.047173669087807575,\n",
       " 0.04642896455911371,\n",
       " 0.04560151303692373,\n",
       " 0.045629095368089095,\n",
       " 0.0455256671500503,\n",
       " 0.04475475756547222,\n",
       " 0.04485129204199679,\n",
       " 0.045656677699254467,\n",
       " 0.04487198063164793,\n",
       " 0.04465270294016035,\n",
       " 0.04397695055682568,\n",
       " 0.04329568538981216,\n",
       " 0.044672010571976103,\n",
       " 0.044301037424187444,\n",
       " 0.04548981011953532,\n",
       " 0.044816815969317185,\n",
       " 0.04560151303692373,\n",
       " 0.04604557752102351,\n",
       " 0.04587733266602321,\n",
       " 0.046102119458635404,\n",
       " 0.04714884867231297,\n",
       " 0.0479997433347164,\n",
       " 0.04832106828640739,\n",
       " 0.04907129296388856,\n",
       " 0.049417442013628396,\n",
       " 0.04862998303035109,\n",
       " 0.04859551064022572,\n",
       " 0.049184380521666585,\n",
       " 0.049149900766432754,\n",
       " 0.05013594516899227,\n",
       " 0.051360574894855134,\n",
       " 0.051781196238741466,\n",
       " 0.05316717339553617,\n",
       " 0.05322096078258576,\n",
       " 0.05404978958005689,\n",
       " 0.05476691546013961,\n",
       " 0.05544404511875544,\n",
       " 0.05395187414569694,\n",
       " 0.053845684011987374,\n",
       " 0.05366088607573362,\n",
       " 0.05452557558627397,\n",
       " 0.053444370299916805,\n",
       " 0.053949115912580406,\n",
       " 0.0518529066172172,\n",
       " 0.051335747114252074,\n",
       " 0.048521038346079216,\n",
       " 0.05138953450130166,\n",
       " 0.049966319356156585,\n",
       " 0.05134678372927245,\n",
       " 0.05180050387055722,\n",
       " 0.052685874605640254,\n",
       " 0.05228179897789891,\n",
       " 0.05227628619422007,\n",
       " 0.050291779816245274,\n",
       " 0.048909938167848256,\n",
       " 0.048966480105460154,\n",
       " 0.05133299256368976,\n",
       " 0.05168879727061459,\n",
       " 0.051349541962388986,\n",
       " 0.05270932142840793,\n",
       " 0.05359055297253904,\n",
       " 0.05359331120565558,\n",
       " 0.052881705474360156,\n",
       " 0.0523576522298808,\n",
       " 0.05139505096753473,\n",
       " 0.0521797517176955,\n",
       " 0.05275758866667021,\n",
       " 0.05278654827311674,\n",
       " 0.051868078740635266,\n",
       " 0.05220733404886087,\n",
       " 0.05285274586791363,\n",
       " 0.053498154004412164,\n",
       " 0.05400289961707576,\n",
       " 0.05504272772413064,\n",
       " 0.056577649469218345,\n",
       " 0.05682864500026899,\n",
       " 0.056647986254967156,\n",
       " 0.055224767427267854,\n",
       " 0.05556678465116422,\n",
       " 0.05541094632135699,\n",
       " 0.054871724636013794,\n",
       " 0.054561432616788946,\n",
       " 0.053673299966035155,\n",
       " 0.052397644768793473,\n",
       " 0.05147089685440816,\n",
       " 0.05118128974228022,\n",
       " 0.05197426887434483,\n",
       " 0.0518529066172172,\n",
       " 0.050808939319210406,\n",
       " 0.05343057913433412,\n",
       " 0.05501376811768411,\n",
       " 0.0552757965812009,\n",
       " 0.05613634690078933,\n",
       " 0.0580077657209861,\n",
       " 0.05773056881660547,\n",
       " 0.05804086083583032,\n",
       " 0.05478346485883884,\n",
       " 0.0543269828018833,\n",
       " 0.05399048572677423,\n",
       " 0.055769509261398356,\n",
       " 0.0546662381101089,\n",
       " 0.05505652257226755,\n",
       " 0.055620564673105354,\n",
       " 0.05565642170362033,\n",
       " 0.05563297856340688,\n",
       " 0.05449247310632129,\n",
       " 0.05461659359656546,\n",
       " 0.05539715515577431,\n",
       " 0.055006874376169884,\n",
       " 0.054936537590421074,\n",
       " 0.05583294494052448,\n",
       " 0.054322847293485604,\n",
       " 0.052935489178855516,\n",
       " 0.05285274586791363,\n",
       " 0.05211355412289861,\n",
       " 0.053433341050004884,\n",
       " 0.05287343077501055,\n",
       " 0.051858423083450275,\n",
       " 0.05151778681738929,\n",
       " 0.05069999463493853,\n",
       " 0.05173430627576033,\n",
       " 0.050421416772722515,\n",
       " 0.04994976995745736,\n",
       " 0.051680518888710746,\n",
       " 0.05127782790135902,\n",
       " 0.05251900334336687,\n",
       " 0.053309220559760714,\n",
       " 0.053553318666742906,\n",
       " 0.05400979335858999,\n",
       " 0.053725702712695125,\n",
       " 0.05346919439796564,\n",
       " 0.05368571017378246,\n",
       " 0.054093917627367254,\n",
       " 0.05384844224510391,\n",
       " 0.05343057913433412,\n",
       " 0.052241806438986245,\n",
       " 0.05206942239303402,\n",
       " 0.05235627127204542,\n",
       " 0.052520384301202254,\n",
       " 0.05441524626161248,\n",
       " 0.05448420208952591,\n",
       " 0.054773809201653846,\n",
       " 0.055433012186289286,\n",
       " 0.05587431843727254,\n",
       " 0.05533785498504588,\n",
       " 0.05567986484383379,\n",
       " 0.05566331912768879,\n",
       " 0.05652248848944183,\n",
       " 0.05682726404243361,\n",
       " 0.057460265653739066,\n",
       " 0.058062926700762615,\n",
       " 0.05797052773263574,\n",
       " 0.05817876880910294,\n",
       " 0.05808361160785953,\n",
       " 0.05792363776965461,\n",
       " 0.05770574103600241,\n",
       " 0.05838011614405592,\n",
       " 0.05898829365731255,\n",
       " 0.058800737487942255,\n",
       " 0.05777331590608045,\n",
       " 0.05875384752496112,\n",
       " 0.05778848802949852,\n",
       " 0.06140858613748328,\n",
       " 0.06112863468254034,\n",
       " 0.061494091364095935,\n",
       " 0.062284304897935544,\n",
       " 0.06276284545471492,\n",
       " 0.06272285291580225,\n",
       " 0.06257529296789886,\n",
       " 0.0632041553882524,\n",
       " 0.06379577982025557,\n",
       " 0.0644660194199114,\n",
       " 0.0655486019815497,\n",
       " 0.06782271178909821,\n",
       " 0.0678571878617778,\n",
       " 0.06912319108438872,\n",
       " 0.07006923926548134,\n",
       " 0.06844330319265636,\n",
       " 0.06906940369733913,\n",
       " 0.06905699348959184,\n",
       " 0.07081257020144828,\n",
       " 0.07056295194567878,\n",
       " 0.07102494310375895,\n",
       " 0.07185515285906546,\n",
       " 0.07231715138225407,\n",
       " 0.07364796755927228,\n",
       " 0.07461745888057834,\n",
       " 0.07489741401807551,\n",
       " 0.07499533313498968,\n",
       " 0.07333767554004743,\n",
       " 0.07293773542070378,\n",
       " 0.07299703927398644,\n",
       " 0.07455540784184182,\n",
       " 0.07499395585970853,\n",
       " 0.07593587221495769,\n",
       " 0.0781561946354566,\n",
       " 0.0811184707166413,\n",
       " 0.08056407690788003,\n",
       " 0.08056545418316119,\n",
       " 0.08270717616622437,\n",
       " 0.08337741576588019,\n",
       " 0.0829002451192735,\n",
       " 0.08246445901707757,\n",
       " 0.08201073887579279,\n",
       " 0.0835180746071609,\n",
       " 0.08455239361309115,\n",
       " 0.08498542516472479,\n",
       " 0.08391525281083377,\n",
       " 0.08249341862352409,\n",
       " 0.08512471409583279,\n",
       " 0.08659895102980246,\n",
       " 0.08590803020560396,\n",
       " 0.08720023848409908,\n",
       " 0.08755190031751776,\n",
       " 0.08647759613778329,\n",
       " 0.0861686813938396,\n",
       " 0.08569564993818483,\n",
       " 0.08327673473329525,\n",
       " 0.07981523687078848,\n",
       " 0.08389318694590148,\n",
       " 0.08370563445908542,\n",
       " 0.08082334345572606,\n",
       " 0.07882918878567473,\n",
       " 0.07865266186621636,\n",
       " 0.0770777512647702,\n",
       " 0.08393455676009531,\n",
       " 0.08361737099935623,\n",
       " 0.0829691972646327,\n",
       " 0.08034618017422783,\n",
       " 0.08009105281733372,\n",
       " 0.08062199612077309,\n",
       " 0.08004829836275029,\n",
       " 0.07776315562273564,\n",
       " 0.07834650903794343,\n",
       " 0.07816722756792276,\n",
       " 0.07830513185864114,\n",
       " 0.0784899297948949,\n",
       " 0.07796450295768861,\n",
       " 0.07679365693632112,\n",
       " 0.07609721964588953,\n",
       " 0.07511944994267963,\n",
       " 0.07291843147144225,\n",
       " 0.072954284819403,\n",
       " 0.07721565555548861,\n",
       " 0.07662127657292311,\n",
       " 0.07849545362623643,\n",
       " 0.07777281127992064,\n",
       " 0.0773549444865966,\n",
       " 0.07873126966876055,\n",
       " 0.0796828416811947,\n",
       " 0.07948425626191248,\n",
       " 0.07717566301657593,\n",
       " 0.07763076043314186,\n",
       " 0.07742941309818889,\n",
       " 0.07861957043392637,\n",
       " 0.07865542378188713,\n",
       " 0.07984143456156424,\n",
       " 0.0785795778950137,\n",
       " 0.07926773680354145,\n",
       " 0.07871610491045095,\n",
       " 0.07862921872600291,\n",
       " 0.07898778166604427,\n",
       " 0.08059441378960772,\n",
       " 0.0808192116298826,\n",
       " 0.08058890468848309,\n",
       " 0.07947597788000865,\n",
       " 0.0800869136263818,\n",
       " 0.07852441323268296,\n",
       " 0.07869817823647056,\n",
       " 0.07903880713742309,\n",
       " 0.07828720518466077,\n",
       " 0.0803489420898986,\n",
       " 0.08152391993710957,\n",
       " 0.0824741073091541,\n",
       " 0.08392628574329992,\n",
       " 0.08336637546830558,\n",
       " 0.0844710238948762,\n",
       " 0.08368770778510504,\n",
       " 0.08316641277374222,\n",
       " 0.08240377788851375,\n",
       " 0.08324088138533449,\n",
       " 0.08350842631508436,\n",
       " 0.08351256550603628,\n",
       " 0.08341878558007401,\n",
       " 0.08453032774815886,\n",
       " 0.08314848609976185,\n",
       " 0.0830836657802461,\n",
       " 0.08268235575072977,\n",
       " 0.07910362745693883,\n",
       " 0.07909121724919152,\n",
       " 0.08050891224554929,\n",
       " 0.08187007266940362,\n",
       " 0.08403936961852372,\n",
       " 0.08349463146694745,\n",
       " 0.08362978120710353,\n",
       " 0.08472064215064569,\n",
       " 0.08566531305645715,\n",
       " 0.08543914530600956,\n",
       " 0.08529433990866848,\n",
       " 0.0854143175254065,\n",
       " 0.08554808999028143,\n",
       " 0.08669273095576473,\n",
       " 0.08692579244772654,\n",
       " 0.08680719210626966,\n",
       " 0.08756707244093583,\n",
       " 0.0891902539631985,\n",
       " 0.09154021702272888,\n",
       " 0.09028662400786527,\n",
       " 0.09205323365218786,\n",
       " 0.09119268701515366,\n",
       " 0.09127404936826017,\n",
       " 0.09299239545687471,\n",
       " 0.09287103319974707,\n",
       " 0.09268761253877447,\n",
       " 0.09136369010327051,\n",
       " 0.09155262723047619,\n",
       " 0.09289447633996052,\n",
       " 0.09224079350411238,\n",
       " 0.09307375780998121,\n",
       " 0.09364884020839362,\n",
       " 0.09120785913857174,\n",
       " 0.09091135460237534,\n",
       " 0.09218010501044012,\n",
       " 0.09399912476653113,\n",
       " 0.09514376573201443,\n",
       " 0.09631598902866308,\n",
       " 0.09660973164918871,\n",
       " 0.09663593670507292,\n",
       " 0.09616704444037008,\n",
       " 0.09635873611813806,\n",
       " 0.09507618349682792,\n",
       " 0.09269726819595947,\n",
       " 0.0915443562136808,\n",
       " 0.09377019510041279,\n",
       " 0.0918091392277599,\n",
       " 0.09074586061538312,\n",
       " 0.09101064362946222,\n",
       " 0.09240903467655846,\n",
       " 0.09176776204845762,\n",
       " 0.08980808345108589,\n",
       " 0.08781944524726763,\n",
       " 0.08749949757085779,\n",
       " 0.08819731213657052,\n",
       " 0.08643070249224793,\n",
       " 0.08665273841685205,\n",
       " 0.08734917570728364,\n",
       " 0.08942193817987916,\n",
       " 0.0887075742154672,\n",
       " 0.08705681036203916,\n",
       " 0.08391249826027147,\n",
       " 0.08724850203980715,\n",
       " 0.08439793255856508,\n",
       " 0.08487647311534446,\n",
       " 0.08387112108096918,\n",
       " 0.08310710892045955,\n",
       " 0.0819100652083163,\n",
       " 0.08207831374587084,\n",
       " 0.07935600026327062,\n",
       " 0.08043444363395702,\n",
       " 0.0801903418444206,\n",
       " 0.07676332005459344,\n",
       " 0.07397066978624442,\n",
       " 0.07525459968283571,\n",
       " 0.07467124626762793,\n",
       " 0.07468090192481291,\n",
       " 0.0738506921695064,\n",
       " 0.07229784006788409,\n",
       " 0.07258193439633318,\n",
       " 0.07782935321753252,\n",
       " 0.07716463008410979,\n",
       " 0.07727358213349012,\n",
       " 0.07862507953505099,\n",
       " 0.08111157697512707,\n",
       " 0.08045650949888931,\n",
       " 0.08020275941727636,\n",
       " 0.08108812646980516,\n",
       " 0.08052546164424852,\n",
       " 0.08065095572721961,\n",
       " 0.079224982348958,\n",
       " 0.07411409790830435,\n",
       " 0.07527942746343878,\n",
       " 0.07335008574779472,\n",
       " 0.07287706165724842,\n",
       " 0.07447266084834571,\n",
       " 0.07414305751475088,\n",
       " 0.07285912761815959,\n",
       " 0.07011474827062708,\n",
       " 0.07136144017886802,\n",
       " 0.07343972648280507,\n",
       " 0.0723929972691275,\n",
       " 0.07176138029821166,\n",
       " 0.07143039968933566,\n",
       " 0.07154623811512177,\n",
       " 0.07055743547944571,\n",
       " 0.0708415298078948,\n",
       " 0.07008716593946171,\n",
       " 0.07320114115950173,\n",
       " 0.07552627643842905,\n",
       " 0.07457057260015144,\n",
       " 0.07248815447037092,\n",
       " 0.07206063938497036,\n",
       " 0.07225508561330066,\n",
       " 0.07112286222067313,\n",
       " 0.07200685936302922,\n",
       " 0.0715641721542106,\n",
       " 0.06900596801821302,\n",
       " 0.066822876220956,\n",
       " 0.06960448619173042,\n",
       " 0.06913421665174642,\n",
       " 0.06876462814434736,\n",
       " 0.06942245017114743,\n",
       " 0.07069672441055372,\n",
       " 0.061938159530749944,\n",
       " 0.060473567206302585,\n",
       " 0.06184575688006884,\n",
       " 0.06300970179481365,\n",
       " 0.06281111637553144,\n",
       " 0.06262631843927768,\n",
       " 0.062368429166712806,\n",
       " 0.060810064281411655,\n",
       " 0.06295040530663944,\n",
       " 0.0628828304365614,\n",
       " 0.06438189515113413,\n",
       " 0.06531415584919828,\n",
       " 0.06599679829149295,\n",
       " 0.06433776342126953,\n",
       " 0.06421502388886074,\n",
       " 0.06415710467596769,\n",
       " 0.06327035298304928,\n",
       " 0.06324690247772738,\n",
       " 0.06171060713991275,\n",
       " 0.06132583914398717,\n",
       " 0.06198090662022492,\n",
       " 0.060876261876208544,\n",
       " 0.06172715653861197,\n",
       " 0.0611203563006365,\n",
       " 0.06068318924060517,\n",
       " 0.059175849826682836,\n",
       " 0.05773884351595508,\n",
       " 0.05926824511225549,\n",
       " 0.058512507651095474,\n",
       " 0.05919101826754668,\n",
       " 0.05934823387263506,\n",
       " 0.06019637030192195,\n",
       " 0.05889451373135029,\n",
       " 0.058883480798884134,\n",
       " 0.05945580496418001,\n",
       " 0.06099486221766541,\n",
       " 0.06265803996139496,\n",
       " 0.06248841414855929,\n",
       " 0.06215604889929369,\n",
       " 0.062245689634304026,\n",
       " 0.06351169285691494,\n",
       " 0.06374199979831444,\n",
       " 0.06340550272320537,\n",
       " 0.06215604889929369,\n",
       " 0.06085695424439278,\n",
       " 0.05896071132614718,\n",
       " 0.059082069900720575,\n",
       " 0.0593854681784312,\n",
       " 0.058796598296990334,\n",
       " 0.0581732560254241,\n",
       " 0.05858835722052313,\n",
       " 0.05869454735423269,\n",
       " 0.05989573025732787,\n",
       " 0.05970817777051181,\n",
       " 0.05908345085855596,\n",
       " 0.05771126118478971,\n",
       " 0.05859249641147505,\n",
       " 0.055359917167423944,\n",
       " 0.053877405534104666,\n",
       " 0.05366778349980208,\n",
       " 0.054790354917798836,\n",
       " 0.05581915745749602,\n",
       " 0.05572675480681492,\n",
       " 0.05612944947672087,\n",
       " 0.057345800820679894,\n",
       " 0.05912758258842055,\n",
       " 0.06087349996053778,\n",
       " 0.06039220117064186,\n",
       " 0.061251374214949125,\n",
       " 0.06186644546971998,\n",
       " 0.06334620623503116,\n",
       " 0.06306348918186323,\n",
       " 0.0637778531462752,\n",
       " 0.0628028379936276,\n",
       " 0.062278788431702474,\n",
       " 0.06252288285613043,\n",
       " 0.06102244454883078,\n",
       " 0.058952432944243335,\n",
       " 0.05974265016063718,\n",
       " 0.05956061045749996,\n",
       " 0.06089418855018892,\n",
       " 0.06044322664202068,\n",
       " 0.06067629181653672,\n",
       " 0.06078524018336282,\n",
       " 0.06120034506101608,\n",
       " 0.06068870202428402,\n",
       " 0.061172762729850706,\n",
       " 0.062087096753934486,\n",
       " 0.06183196939704038,\n",
       " 0.06196849641247762,\n",
       " 0.06177404281903887,\n",
       " 0.061194828594783,\n",
       " 0.06027773633758268,\n",
       " 0.06073973117821707,\n",
       " 0.06033703650831112,\n",
       " 0.06015913231357159,\n",
       " 0.05941305050959657,\n",
       " 0.059932964563124004,\n",
       " 0.05911792693123556,\n",
       " 0.05938684545371235,\n",
       " 0.059355127614149295,\n",
       " 0.05814567369425873,\n",
       " 0.05729615630713645,\n",
       " 0.056835538741783216,\n",
       " 0.05532406381946319,\n",
       " 0.05533647770976472,\n",
       " 0.054707615289411184,\n",
       " 0.054115983492299555,\n",
       " 0.05449523502199206,\n",
       " 0.056245291585061204,\n",
       " 0.05752370133286519,\n",
       " 0.05784227173399388,\n",
       " 0.0573761413849618,\n",
       " 0.0570492962844835,\n",
       " 0.05805603295924839,\n",
       " 0.05783261607680888,\n",
       " 0.058737298126261904,\n",
       " 0.058629730717271185,\n",
       " 0.058757983033358815,\n",
       " 0.0591386155208867,\n",
       " 0.059153780279196315,\n",
       " 0.05935375033886814,\n",
       " 0.05841459589928975,\n",
       " 0.058602148386105814,\n",
       " 0.057592660843332845,\n",
       " 0.06056044970819639,\n",
       " 0.06028325280381576,\n",
       " 0.06062664730299328,\n",
       " 0.06156442446729051,\n",
       " 0.06232705935251898,\n",
       " 0.062218107303138655,\n",
       " 0.06279042778588029,\n",
       " 0.06359857167625452,\n",
       " 0.06455152096396981,\n",
       " 0.06397230673971394,\n",
       " 0.06393506875136358,\n",
       " 0.063387576049225,\n",
       " 0.06248289031721776,\n",
       " 0.06426329480967725,\n",
       " 0.06732624455833845,\n",
       " 0.06855776434316131,\n",
       " 0.06847639462494635,\n",
       " 0.06908595309603836,\n",
       " 0.0698320385825676,\n",
       " 0.06891218809225075,\n",
       " 0.06909009228699027,\n",
       " 0.06917283191537793,\n",
       " 0.06890529435073652,\n",
       " 0.06917421655576754,\n",
       " 0.06719108745307391,\n",
       " 0.0675096578542026,\n",
       " 0.06761998717886407,\n",
       " 0.06700215769097669,\n",
       " 0.06718971017779275,\n",
       " 0.06858396203393707,\n",
       " 0.06811231521867192,\n",
       " 0.06851914907952979,\n",
       " 0.06961551912419656,\n",
       " 0.06802543639933234,\n",
       " 0.06431156573049378,\n",
       " 0.06499834736374036,\n",
       " 0.06392403581889743,\n",
       " 0.06188574941898151,\n",
       " 0.06260287529906423,\n",
       " 0.06389369893716974,\n",
       " 0.06494455997669077,\n",
       " 0.06427018855119149,\n",
       " 0.06747380450624184,\n",
       " 0.06726142423882271,\n",
       " 0.06621745694081592,\n",
       " 0.06686424603514983,\n",
       " 0.06638570547837044,\n",
       " 0.0655582576387347,\n",
       " 0.06710420863373433,\n",
       " 0.06732485991794884,\n",
       " 0.06647672348866195,\n",
       " 0.06642432074200197,\n",
       " 0.0670752490272878,\n",
       " 0.06613609458770942,\n",
       " 0.06691527150652865,\n",
       " 0.06733589285041498,\n",
       " 0.06777306359300055,\n",
       " 0.06821850535238148,\n",
       " 0.06858258475865592,\n",
       " 0.06891770455848382,\n",
       " 0.06938521218279706,\n",
       " 0.06999063146293714,\n",
       " 0.07171035482683284,\n",
       " 0.07150486830092793,\n",
       " 0.0722068220575926,\n",
       " 0.07316528781154097,\n",
       " 0.07234473371341944,\n",
       " 0.0728853326740438,\n",
       " 0.07106493564267162,\n",
       " 0.07219855104079721,\n",
       " 0.07189514539797813,\n",
       " 0.07152693416586024,\n",
       " 0.07245367839769132,\n",
       " 0.07227439692767064,\n",
       " 0.07164967369826902,\n",
       " 0.0704870986936969,\n",
       " 0.07160002550217136,\n",
       " 0.07139178442570415,\n",
       " 0.07152417961529793,\n",
       " 0.07160968115935634,\n",
       " 0.07264813199113007,\n",
       " 0.07221096124854451,\n",
       " 0.07133385784770264,\n",
       " 0.07146073657106335,\n",
       " 0.07083325142599096,\n",
       " 0.0716800105799967,\n",
       " 0.07149521264374295,\n",
       " 0.07203857352003806,\n",
       " 0.07337076697233741,\n",
       " 0.0751029005439804,\n",
       " 0.07649715976523318,\n",
       " 0.07582968208124813,\n",
       " 0.07791071557063903,\n",
       " 0.07772867955005604,\n",
       " 0.07812861230429123,\n",
       " 0.07704189055170099,\n",
       " 0.0779258876940571,\n",
       " 0.07780452543692946,\n",
       " 0.07722668848795475,\n",
       " 0.07711360461273097,\n",
       " 0.07627098464967715,\n",
       " 0.07669436054412579,\n",
       " 0.07634821517694018,\n",
       " 0.07576623903701354,\n",
       " 0.07489603674279435,\n",
       " 0.07552489916314789,\n",
       " 0.07843063330672069,\n",
       " 0.07809689814728239,\n",
       " 0.07757698041120073,\n",
       " 0.07705154620888599,\n",
       " 0.07628339485742444,\n",
       " 0.07717980220752785,\n",
       " 0.07609170317965647,\n",
       " 0.07441611891073381,\n",
       " 0.07482294540648324,\n",
       " 0.0742864856368108,\n",
       " 0.07475813245207595,\n",
       " 0.07380104397340874,\n",
       " 0.07330733129321129,\n",
       " 0.07369209928913686,\n",
       " 0.07516220439726307,\n",
       " 0.07667505659486425,\n",
       " 0.07624616423418254,\n",
       " 0.07437336445615038,\n",
       " 0.07553180026977058,\n",
       " 0.07586829734487964,\n",
       " 0.0765123245235428,\n",
       " 0.07511807266739848,\n",
       " 0.07572900104866317,\n",
       " 0.06966103549445077,\n",
       " 0.06886805636238616,\n",
       " 0.06873428389751123,\n",
       " 0.06884736777273502,\n",
       " 0.06897562377137688,\n",
       " 0.06997683661480023,\n",
       " 0.07050089354183382,\n",
       " 0.07048986060936767,\n",
       " 0.07147866324504372,\n",
       " 0.07276259314163501,\n",
       " 0.07372382081125416,\n",
       " 0.07371829697991263,\n",
       " 0.07489190491695089,\n",
       " 0.07483121642327863,\n",
       " 0.07510703973493232,\n",
       " 0.07391826703958444,\n",
       " 0.07306047495311256,\n",
       " 0.07224681459650527,\n",
       " 0.07256400035724435,\n",
       " 0.07180688930335741,\n",
       " 0.07115733829335273,\n",
       " 0.07258055712105202,\n",
       " 0.07238334897705097,\n",
       " 0.07259296732879933,\n",
       " 0.07307288516085987,\n",
       " 0.07322734621538594,\n",
       " 0.07300531029078182,\n",
       " 0.07296256320130684,\n",
       " 0.07302876079610372,\n",
       " 0.07374174012012608,\n",
       " 0.07381345418115604,\n",
       " 0.07299152280775337,\n",
       " 0.07216959143435069,\n",
       " 0.07245230112241016,\n",
       " 0.07309495102579217,\n",
       " 0.07307564707653064,\n",
       " 0.07272260060272234,\n",
       " 0.0732976756360263,\n",
       " 0.0741692625706351,\n",
       " 0.07496912807910547,\n",
       " 0.0742506249237416,\n",
       " 0.07393067724733175,\n",
       " 0.07384793025383564,\n",
       " 0.07383138822024488,\n",
       " 0.07450851419630647,\n",
       " 0.0746326310039964,\n",
       " 0.07411409790830435,\n",
       " 0.07315287023868522,\n",
       " 0.0720013355316877,\n",
       " 0.07199720370584424,\n",
       " 0.07294601380260761,\n",
       " 0.0720027201720773,\n",
       " 0.07146901495296719,\n",
       " 0.07175448655669743,\n",
       " 0.07124146256212999,\n",
       " 0.07138626795947108,\n",
       " 0.07220406014192184,\n",
       " 0.07306323686878333,\n",
       " 0.07313632820509444,\n",
       " 0.07217786245114607,\n",
       " 0.07811068563031086,\n",
       " 0.07868576802872326,\n",
       " 0.0817404393954806,\n",
       " 0.08149771488122536,\n",
       " 0.08118880013728165,\n",
       " 0.08138049918015809,\n",
       " 0.08153219095390495,\n",
       " 0.08268786485185438,\n",
       " 0.0817845711253452,\n",
       " 0.08149771488122536,\n",
       " 0.08089919670770794,\n",
       " 0.08056132235731772,\n",
       " 0.081566674391693,\n",
       " 0.0816949230252264,\n",
       " 0.08171009514864448,\n",
       " 0.08101365785821289,\n",
       " 0.08221208621074576,\n",
       " 0.08318847863867451,\n",
       " 0.08320502803737374,\n",
       " 0.08342567932158824,\n",
       " 0.08355806714607357,\n",
       " 0.08450412269227464,\n",
       " 0.0860900735912954,\n",
       " 0.08586666039141012,\n",
       " 0.08743467725134205,\n",
       " 0.08710645855813683,\n",
       " 0.08650655574422982,\n",
       " 0.0877325590628196,\n",
       " 0.08873653382191372,\n",
       " 0.08908544110477008,\n",
       " 0.08883996203995252,\n",
       " 0.09026455814293298,\n",
       " 0.09079550881148078,\n",
       " 0.09041901919745905,\n",
       " 0.08890340508418709,\n",
       " 0.08792838993153951,\n",
       " 0.08881651889973907,\n",
       " 0.08870068047395296,\n",
       " 0.08879721495047754,\n",
       " 0.08848830020653384,\n",
       " 0.08757121163188775,\n",
       " 0.08749398110462471,\n",
       " 0.0869630304360769,\n",
       " 0.08704026096333993,\n",
       " 0.08756155597470276,\n",
       " 0.0886041459974284,\n",
       " 0.08952123457207449,\n",
       " 0.09009079313914536,\n",
       " 0.0900521852406223,\n",
       " 0.09058312854406166,\n",
       " 0.09245592832209382,\n",
       " 0.09185740278346796,\n",
       " 0.09189601804709947,\n",
       " 0.09155814369670925,\n",
       " 0.09173190870049687,\n",
       " 0.09291929675545513,\n",
       " 0.09182844317702143,\n",
       " 0.09130714816565862,\n",
       " 0.08967568826149211,\n",
       " 0.0909692738152684,\n",
       " 0.09049624972472209,\n",
       " 0.09124922895276556,\n",
       " 0.09363366808497554,\n",
       " 0.09347920703044947,\n",
       " 0.09409703651833687,\n",
       " 0.09540027036418969,\n",
       " 0.09478244087630229,\n",
       " 0.09456041231680663,\n",
       " 0.09209874265733362,\n",
       " 0.09261038201151144,\n",
       " 0.09208908700014862,\n",
       " 0.09163537422397229,\n",
       " 0.09148091316944622,\n",
       " 0.09101754473608491,\n",
       " 0.09126853290202709,\n",
       " 0.09247523227135535,\n",
       " 0.09245592832209382,\n",
       " 0.0936819316406836,\n",
       " 0.09393292717173425,\n",
       " 0.09439630297020402,\n",
       " 0.09553542746945423,\n",
       " 0.09685796526456858,\n",
       " 0.0968965805282001,\n",
       " 0.0969062361853851,\n",
       " 0.09762060014979705,\n",
       " 0.09783298041721618,\n",
       " 0.0972054952721438,\n",
       " 0.09840253898428705,\n",
       " 0.09851838477518161,\n",
       " 0.09875972464904727,\n",
       " 0.09953201519146074,\n",
       " 0.0953230472020351,\n",
       " 0.0945314527103601,\n",
       " 0.09535200680848163,\n",
       " 0.09476313692704076,\n",
       " 0.09440595126228056,\n",
       " 0.09731168540585336,\n",
       " 0.09772679028350661,\n",
       " 0.09794882620811074,\n",
       " 0.09791985923655576,\n",
       " 0.09717653566569727,\n",
       " 0.0978715956808477,\n",
       " 0.09807432029108183,\n",
       " 0.09727307014222185,\n",
       " 0.09736960461874641,\n",
       " 0.09889487438920336,\n",
       " 0.09803570502745032,\n",
       " 0.09429011283649445,\n",
       " 0.0970703455319877,\n",
       " 0.09645251604410032,\n",
       " 0.0970703455319877,\n",
       " 0.09555473141871576,\n",
       " 0.0962497914338662,\n",
       " 0.09597949195355401,\n",
       " 0.09597949195355401,\n",
       " 0.0951396265410625,\n",
       " 0.09711861645280422,\n",
       " 0.09733098935511489,\n",
       " 0.09705104158272618,\n",
       " 0.09616290524941816,\n",
       " 0.0951396265410625,\n",
       " 0.09397154243536576,\n",
       " 0.09273588345959098,\n",
       " 0.09409703651833687,\n",
       " 0.0961146416937101,\n",
       " 0.09873076504260074,\n",
       " 0.09923274873959358,\n",
       " 0.10100901404110116,\n",
       " 0.1013855036551229,\n",
       " 0.10127931352141334,\n",
       " 0.10285284684757834,\n",
       " 0.10343206107183421,\n",
       " 0.10308453842936745,\n",
       " 0.10406920187409159,\n",
       " 0.10542070664076092,\n",
       " 0.10464841609834746,\n",
       " 0.1048994116293981,\n",
       " 0.10474495057487203,\n",
       " 0.10504421702673919,\n",
       " 0.10487045202295157,\n",
       " 0.10571031007033463,\n",
       " 0.10720662023434505,\n",
       " 0.10872223434761699,\n",
       " 0.11003512385065481,\n",
       " 0.10985170318968221,\n",
       " 0.11128043848361459,\n",
       " 0.11050814794120112,\n",
       " 0.11209133692455112,\n",
       " 0.11224579797907719,\n",
       " 0.11433097065942002,\n",
       " 0.1133366515575109,\n",
       " 0.11468815632418022,\n",
       " 0.11462058145410219,\n",
       " 0.11089429321240786,\n",
       " 0.1104695326775696,\n",
       " 0.11172450296771437,\n",
       " 0.11129974243287612,\n",
       " 0.11082671834232981,\n",
       " 0.10831678512714873,\n",
       " 0.10997720463776177,\n",
       " 0.10788236893512548,\n",
       " 0.10756380589910526,\n",
       " 0.10573927704188961,\n",
       " 0.1042912377986957,\n",
       " 0.10286250250476334,\n",
       " 0.10543036229794592,\n",
       " 0.10855812500101439,\n",
       " 0.10771825958852288,\n",
       " 0.10883808013851155,\n",
       " 0.10845193486730483,\n",
       " 0.10794029551312699,\n",
       " 0.10985170318968221,\n",
       " 0.10977448002752763,\n",
       " 0.10843262355293483,\n",
       " 0.10636675482185354,\n",
       " 0.10535313177068288,\n",
       " 0.10237982275703203,\n",
       " 0.10238947841421703,\n",
       " 0.10382786200022594,\n",
       " 0.10782444972223244,\n",
       " 0.10794029551312699,\n",
       " 0.10527590124341984,\n",
       " 0.10621230113243592,\n",
       " 0.10580685191196765,\n",
       " 0.10293007737484137,\n",
       " 0.10212882722598139,\n",
       " 0.10476426188924201,\n",
       " 0.10556551203810201,\n",
       " 0.10831678512714873,\n",
       " 0.10887669540214308,\n",
       " 0.10899253382792917,\n",
       " 0.10516971110971028,\n",
       " 0.11112597742908852,\n",
       " 0.11459162184765566,\n",
       " 0.1129118983877811,\n",
       " 0.11433097065942002,\n",
       " 0.11435028197379,\n",
       " 0.11522875528480457,\n",
       " 0.11559559660674977,\n",
       " 0.11462058145410219,\n",
       " 0.11538321633933066,\n",
       " 0.11760353875982957,\n",
       " 0.12036446750606129,\n",
       " 0.12188973727651824,\n",
       " 0.12248826281514409,\n",
       " 0.12321228243674104,\n",
       " 0.12407145179849409,\n",
       " 0.12381080061025844,\n",
       " 0.12482443102653755,\n",
       " 0.12820318926065669,\n",
       " 0.1274019391117967,\n",
       " 0.12413901930346367,\n",
       " 0.12571255999473713,\n",
       " 0.12382046363255189,\n",
       " 0.12442863009814584,\n",
       " 0.12468928128638147,\n",
       " 0.12389767942959802,\n",
       " 0.12184147372081018,\n",
       " 0.12202488701667431,\n",
       " 0.12254618202803715,\n",
       " 0.12000728920640953,\n",
       " 0.1178159190272487,\n",
       " 0.11994936262840804,\n",
       " 0.11911915287310151,\n",
       " 0.12043204237613933,\n",
       " 0.12244964755151257,\n",
       " 0.12383011192462844,\n",
       " 0.12289371203561235,\n",
       " 0.12134913831589388,\n",
       " 0.12261375689811518,\n",
       " 0.12211177320112235,\n",
       " 0.11891642826286739,\n",
       " 0.1197466380181739,\n",
       " ...]"
      ]
     },
     "execution_count": 36,
     "metadata": {},
     "output_type": "execute_result"
    }
   ],
   "source": [
    "temp_input"
   ]
  },
  {
   "cell_type": "code",
   "execution_count": 48,
   "id": "1d050510",
   "metadata": {},
   "outputs": [
    {
     "name": "stdout",
     "output_type": "stream",
     "text": [
      "[0.34701502, 0.3403954, 0.33399564, 0.32780698, 0.32182086, 0.3160292, 0.31042412, 0.3049981, 0.29974374, 0.29465413, 0.28972253, 0.28494254, 0.28030792, 0.27581295, 0.27145165, 0.26721892, 0.26310948, 0.25911823, 0.25524065, 0.251472, 0.24780808, 0.24424475, 0.24077801, 0.23740412, 0.23411946, 0.23092064, 0.2278043, 0.22476727, 0.22180668, 0.21891956, 0.21610329, 0.21335512, 0.21067262, 0.20805342, 0.20549522, 0.20299597, 0.20055342, 0.19816567, 0.1958308, 0.19354707, 0.19131269, 0.18912598, 0.18698545, 0.18488947, 0.18283664, 0.1808256, 0.17885499, 0.17692345, 0.17502995, 0.17317323]\n"
     ]
    }
   ],
   "source": [
    "import numpy as np\n",
    "\n",
    "# Ensure temp_input has the last 100 values from your test_data\n",
    "# Example: temp_input = test_data[-100:].tolist()\n",
    "# or already prepared from previous step\n",
    "\n",
    "lst_output = []\n",
    "n_steps = 100\n",
    "i = 0\n",
    "\n",
    "while i < 50:\n",
    "    # Take last 100 values from temp_input each time\n",
    "    x_input = np.array(temp_input[-n_steps:]).reshape((1, n_steps, 1))\n",
    "\n",
    "    # Make prediction\n",
    "    yhat = model.predict(x_input, verbose=0)\n",
    "\n",
    "    # Append prediction to output and also to temp_input for next step\n",
    "    temp_input.append(yhat[0][0])\n",
    "    lst_output.append(yhat[0][0])\n",
    "    \n",
    "    i += 1\n",
    "\n",
    "# Final 30-day predictions (scaled, if you used a scaler)\n",
    "print(lst_output)\n"
   ]
  },
  {
   "cell_type": "code",
   "execution_count": 49,
   "id": "7a364a7f",
   "metadata": {},
   "outputs": [
    {
     "data": {
      "image/png": "[encoded data removed]",
      "text/plain": [
       "<Figure size 1000x600 with 1 Axes>"
      ]
     },
     "metadata": {},
     "output_type": "display_data"
    }
   ],
   "source": [
    "# Create x-axis values\n",
    "day_new = np.arange(1, 101)              # Last 100 days\n",
    "day_pred = np.arange(101, 151)           # Next 50 days\n",
    "\n",
    "# Get last 100 actual values (inverse transformed)\n",
    "actual_last_100 = scaler.inverse_transform(df1[-100:])\n",
    "\n",
    "# Convert lst_output to proper shape and inverse transform\n",
    "predicted_50 = scaler.inverse_transform(np.array(lst_output).reshape(-1, 1))\n",
    "\n",
    "# Plotting\n",
    "import matplotlib.pyplot as plt\n",
    "\n",
    "plt.figure(figsize=(10, 6))\n",
    "plt.plot(day_new, actual_last_100, label=\"Last 100 Days Actual\")\n",
    "plt.plot(day_pred, predicted_50, label=\"Next 50 Days Prediction\", color='orange')\n",
    "plt.xlabel(\"Days\")\n",
    "plt.ylabel(\"Stock Price\")\n",
    "plt.title(\"Stock Price Forecast\")\n",
    "plt.legend()\n",
    "plt.grid()\n",
    "plt.show()\n"
   ]
  },
  {
   "cell_type": "code",
   "execution_count": 51,
   "id": "ae541bf0",
   "metadata": {},
   "outputs": [
    {
     "data": {
      "image/png": "[encoded data removed]",
      "text/plain": [
       "<Figure size 1000x600 with 1 Axes>"
      ]
     },
     "metadata": {},
     "output_type": "display_data"
    }
   ],
   "source": [
    "# Convert df1 and lst_output to flat lists\n",
    "df3 = df1.flatten().tolist()  # df1 is likely a 2D array, so flatten it\n",
    "df3.extend(np.array(lst_output).flatten().tolist())  # flatten lst_output too\n",
    "\n",
    "# Now plot from a specific index (e.g., 1200 onward)\n",
    "plt.figure(figsize=(10, 6))\n",
    "plt.plot(df3[1200:])\n",
    "plt.title(\"Actual + Predicted Stock Prices\")\n",
    "plt.xlabel(\"Days\")\n",
    "plt.ylabel(\"Stock Price\")\n",
    "plt.grid()\n",
    "plt.show()\n"
   ]
  },
  {
   "cell_type": "code",
   "execution_count": null,
   "id": "b677fd1d",
   "metadata": {},
   "outputs": [],
   "source": [
    "# Save model\n",
    "model.save(\"lstm_model.h5\")\n",
    "\n",
    "# Save scaler\n",
    "import joblib\n",
    "joblib.dump(scaler, \"scaler.save\")"
   ]
  },
  {
   "cell_type": "markdown",
   "id": "7b1a6f88",
   "metadata": {},
   "source": [
    "# ARIMA and Seasonal ARIMA"
   ]
  },
  {
   "cell_type": "code",
   "execution_count": 1,
   "id": "5a036920",
   "metadata": {},
   "outputs": [],
   "source": [
    "import numpy as np\n",
    "import pandas as pd\n",
    "\n",
    "import matplotlib.pyplot as plt\n",
    "%matplotlib inline"
   ]
  },
  {
   "cell_type": "code",
   "execution_count": 8,
   "id": "0ac614ca",
   "metadata": {},
   "outputs": [
    {
     "name": "stdout",
     "output_type": "stream",
     "text": [
      "Collecting pmdarima\n",
      "  Obtaining dependency information for pmdarima from https://files.pythonhosted.org/packages/40/e5/78afab229ccdaf6b947036440799dbdf88e2cd632e2f96b81f32de8aa05a/pmdarima-2.0.4-cp311-cp311-macosx_11_0_arm64.whl.metadata\n",
      "  Downloading pmdarima-2.0.4-cp311-cp311-macosx_11_0_arm64.whl.metadata (7.8 kB)\n",
      "Requirement already satisfied: joblib>=0.11 in /Users/sejal/anaconda3/lib/python3.11/site-packages (from pmdarima) (1.2.0)\n",
      "Collecting Cython!=0.29.18,!=0.29.31,>=0.29 (from pmdarima)\n",
      "  Obtaining dependency information for Cython!=0.29.18,!=0.29.31,>=0.29 from https://files.pythonhosted.org/packages/bb/c8/91b00bc68effba9ba1ff5b33988052ac4d98fc1ac3021ade7261661299c6/cython-3.1.2-cp311-cp311-macosx_11_0_arm64.whl.metadata\n",
      "  Downloading cython-3.1.2-cp311-cp311-macosx_11_0_arm64.whl.metadata (5.9 kB)\n",
      "Requirement already satisfied: numpy>=1.21.2 in /Users/sejal/anaconda3/lib/python3.11/site-packages (from pmdarima) (1.24.3)\n",
      "Requirement already satisfied: pandas>=0.19 in /Users/sejal/anaconda3/lib/python3.11/site-packages (from pmdarima) (2.0.3)\n",
      "Requirement already satisfied: scikit-learn>=0.22 in /Users/sejal/anaconda3/lib/python3.11/site-packages (from pmdarima) (1.3.0)\n",
      "Requirement already satisfied: scipy>=1.3.2 in /Users/sejal/anaconda3/lib/python3.11/site-packages (from pmdarima) (1.11.1)\n",
      "Requirement already satisfied: statsmodels>=0.13.2 in /Users/sejal/anaconda3/lib/python3.11/site-packages (from pmdarima) (0.14.0)\n",
      "Requirement already satisfied: urllib3 in /Users/sejal/anaconda3/lib/python3.11/site-packages (from pmdarima) (1.26.16)\n",
      "Requirement already satisfied: setuptools!=50.0.0,>=38.6.0 in /Users/sejal/anaconda3/lib/python3.11/site-packages (from pmdarima) (68.0.0)\n",
      "Requirement already satisfied: packaging>=17.1 in /Users/sejal/anaconda3/lib/python3.11/site-packages (from pmdarima) (23.1)\n",
      "Requirement already satisfied: python-dateutil>=2.8.2 in /Users/sejal/anaconda3/lib/python3.11/site-packages (from pandas>=0.19->pmdarima) (2.8.2)\n",
      "Requirement already satisfied: pytz>=2020.1 in /Users/sejal/anaconda3/lib/python3.11/site-packages (from pandas>=0.19->pmdarima) (2023.3.post1)\n",
      "Requirement already satisfied: tzdata>=2022.1 in /Users/sejal/anaconda3/lib/python3.11/site-packages (from pandas>=0.19->pmdarima) (2023.3)\n",
      "Requirement already satisfied: threadpoolctl>=2.0.0 in /Users/sejal/anaconda3/lib/python3.11/site-packages (from scikit-learn>=0.22->pmdarima) (2.2.0)\n",
      "Requirement already satisfied: patsy>=0.5.2 in /Users/sejal/anaconda3/lib/python3.11/site-packages (from statsmodels>=0.13.2->pmdarima) (0.5.3)\n",
      "Requirement already satisfied: six in /Users/sejal/anaconda3/lib/python3.11/site-packages (from patsy>=0.5.2->statsmodels>=0.13.2->pmdarima) (1.16.0)\n",
      "Downloading pmdarima-2.0.4-cp311-cp311-macosx_11_0_arm64.whl (628 kB)\n",
      "\u001b[2K   \u001b[90m━━━━━━━━━━━━━━━━━━━━━━━━━━━━━━━━━━━━━━━━\u001b[0m \u001b[32m628.0/628.0 kB\u001b[0m \u001b[31m1.8 MB/s\u001b[0m eta \u001b[36m0:00:00\u001b[0m00:01\u001b[0m00:01\u001b[0mm\n",
      "\u001b[?25hDownloading cython-3.1.2-cp311-cp311-macosx_11_0_arm64.whl (2.9 MB)\n",
      "\u001b[2K   \u001b[90m━━━━━━━━━━━━━━━━━━━━━━━━━━━━━━━━━━━━━━━━\u001b[0m \u001b[32m2.9/2.9 MB\u001b[0m \u001b[31m4.3 MB/s\u001b[0m eta \u001b[36m0:00:00\u001b[0m00:01\u001b[0m00:01\u001b[0m\n",
      "\u001b[?25hInstalling collected packages: Cython, pmdarima\n",
      "\u001b[31mERROR: pip's dependency resolver does not currently take into account all the packages that are installed. This behaviour is the source of the following dependency conflicts.\n",
      "tables 3.8.0 requires blosc2~=2.0.0, which is not installed.\u001b[0m\u001b[31m\n",
      "\u001b[0mSuccessfully installed Cython-3.1.2 pmdarima-2.0.4\n"
     ]
    }
   ],
   "source": [
    "!pip install pmdarima"
   ]
  },
  {
   "cell_type": "code",
   "execution_count": 9,
   "id": "f20e232f",
   "metadata": {},
   "outputs": [],
   "source": [
    "import pandas as pd\n",
    "import numpy as np\n",
    "import matplotlib.pyplot as plt\n",
    "from sklearn.metrics import mean_squared_error\n",
    "from math import sqrt\n",
    "from statsmodels.tsa.statespace.sarimax import SARIMAX\n",
    "from statsmodels.tsa.arima.model import ARIMA\n",
    "from pmdarima.arima import auto_arima"
   ]
  },
  {
   "cell_type": "code",
   "execution_count": 10,
   "id": "c67b8485",
   "metadata": {},
   "outputs": [],
   "source": [
    "df['date'] = pd.to_datetime(df['date'])\n",
    "df = df.sort_values('date')\n",
    "df.set_index('date', inplace=True)"
   ]
  },
  {
   "cell_type": "code",
   "execution_count": 11,
   "id": "16fbddc3",
   "metadata": {},
   "outputs": [],
   "source": [
    "data = df['close']\n"
   ]
  },
  {
   "cell_type": "code",
   "execution_count": 18,
   "id": "a676187d",
   "metadata": {},
   "outputs": [],
   "source": [
    "train = data[:-3000]\n",
    "test = data[-3000:]\n"
   ]
  },
  {
   "cell_type": "code",
   "execution_count": 19,
   "id": "de20e828",
   "metadata": {},
   "outputs": [
    {
     "data": {
      "text/plain": [
       "date\n",
       "1980-12-12 00:00:00-05:00     0.128348\n",
       "1980-12-15 00:00:00-05:00     0.121652\n",
       "1980-12-16 00:00:00-05:00     0.112723\n",
       "1980-12-17 00:00:00-05:00     0.115513\n",
       "1980-12-18 00:00:00-05:00     0.118862\n",
       "                               ...    \n",
       "2013-08-07 00:00:00-04:00    16.606428\n",
       "2013-08-08 00:00:00-04:00    16.464643\n",
       "2013-08-09 00:00:00-04:00    16.230356\n",
       "2013-08-12 00:00:00-04:00    16.691429\n",
       "2013-08-13 00:00:00-04:00    17.484644\n",
       "Name: close, Length: 8240, dtype: float64"
      ]
     },
     "execution_count": 19,
     "metadata": {},
     "output_type": "execute_result"
    }
   ],
   "source": [
    "train"
   ]
  },
  {
   "cell_type": "code",
   "execution_count": 20,
   "id": "568ff16f",
   "metadata": {},
   "outputs": [
    {
     "name": "stdout",
     "output_type": "stream",
     "text": [
      "Performing stepwise search to minimize aic\n",
      " ARIMA(2,2,2)(0,0,0)[0] intercept   : AIC=inf, Time=2.93 sec\n",
      " ARIMA(0,2,0)(0,0,0)[0] intercept   : AIC=-8692.741, Time=0.26 sec\n",
      " ARIMA(1,2,0)(0,0,0)[0] intercept   : AIC=-10809.957, Time=0.39 sec\n",
      " ARIMA(0,2,1)(0,0,0)[0] intercept   : AIC=inf, Time=1.91 sec\n",
      " ARIMA(0,2,0)(0,0,0)[0]             : AIC=-8694.737, Time=0.11 sec\n",
      " ARIMA(2,2,0)(0,0,0)[0] intercept   : AIC=-11676.695, Time=1.01 sec\n",
      " ARIMA(3,2,0)(0,0,0)[0] intercept   : AIC=-12532.673, Time=0.85 sec\n",
      " ARIMA(4,2,0)(0,0,0)[0] intercept   : AIC=-12777.727, Time=0.77 sec\n",
      " ARIMA(5,2,0)(0,0,0)[0] intercept   : AIC=-13148.885, Time=1.45 sec\n",
      " ARIMA(5,2,1)(0,0,0)[0] intercept   : AIC=-14040.366, Time=5.84 sec\n",
      " ARIMA(4,2,1)(0,0,0)[0] intercept   : AIC=-14017.107, Time=3.64 sec\n",
      " ARIMA(5,2,2)(0,0,0)[0] intercept   : AIC=-14198.487, Time=6.40 sec\n",
      " ARIMA(4,2,2)(0,0,0)[0] intercept   : AIC=-14234.507, Time=4.01 sec\n",
      " ARIMA(3,2,2)(0,0,0)[0] intercept   : AIC=-14222.839, Time=3.75 sec\n",
      " ARIMA(4,2,3)(0,0,0)[0] intercept   : AIC=inf, Time=4.95 sec\n",
      " ARIMA(3,2,1)(0,0,0)[0] intercept   : AIC=inf, Time=3.26 sec\n",
      " ARIMA(3,2,3)(0,0,0)[0] intercept   : AIC=inf, Time=3.57 sec\n",
      " ARIMA(5,2,3)(0,0,0)[0] intercept   : AIC=inf, Time=8.39 sec\n",
      " ARIMA(4,2,2)(0,0,0)[0]             : AIC=inf, Time=2.26 sec\n",
      "\n",
      "Best model:  ARIMA(4,2,2)(0,0,0)[0] intercept\n",
      "Total fit time: 55.757 seconds\n",
      "Best ARIMA order: (4, 2, 2)\n"
     ]
    }
   ],
   "source": [
    "stepwise_model = auto_arima(train, seasonal=False, trace=True, suppress_warnings=True)\n",
    "print(\"Best ARIMA order:\", stepwise_model.order)"
   ]
  },
  {
   "cell_type": "code",
   "execution_count": 21,
   "id": "fe821e17",
   "metadata": {},
   "outputs": [
    {
     "name": "stderr",
     "output_type": "stream",
     "text": [
      "/Users/sejal/anaconda3/lib/python3.11/site-packages/statsmodels/tsa/base/tsa_model.py:473: ValueWarning: A date index has been provided, but it has no associated frequency information and so will be ignored when e.g. forecasting.\n",
      "  self._init_dates(dates, freq)\n",
      "/Users/sejal/anaconda3/lib/python3.11/site-packages/statsmodels/tsa/base/tsa_model.py:473: ValueWarning: A date index has been provided, but it has no associated frequency information and so will be ignored when e.g. forecasting.\n",
      "  self._init_dates(dates, freq)\n",
      "/Users/sejal/anaconda3/lib/python3.11/site-packages/statsmodels/tsa/base/tsa_model.py:473: ValueWarning: A date index has been provided, but it has no associated frequency information and so will be ignored when e.g. forecasting.\n",
      "  self._init_dates(dates, freq)\n",
      "/Users/sejal/anaconda3/lib/python3.11/site-packages/statsmodels/base/model.py:607: ConvergenceWarning: Maximum Likelihood optimization failed to converge. Check mle_retvals\n",
      "  warnings.warn(\"Maximum Likelihood optimization failed to \"\n"
     ]
    }
   ],
   "source": [
    "model_arima = ARIMA(train, order=stepwise_model.order)\n",
    "model_arima_fit = model_arima.fit()"
   ]
  },
  {
   "cell_type": "code",
   "execution_count": 22,
   "id": "2bac48d0",
   "metadata": {},
   "outputs": [
    {
     "name": "stderr",
     "output_type": "stream",
     "text": [
      "/Users/sejal/anaconda3/lib/python3.11/site-packages/statsmodels/tsa/base/tsa_model.py:836: ValueWarning: No supported index is available. Prediction results will be given with an integer index beginning at `start`.\n",
      "  return get_prediction_index(\n",
      "/Users/sejal/anaconda3/lib/python3.11/site-packages/statsmodels/tsa/base/tsa_model.py:836: FutureWarning: No supported index is available. In the next version, calling this method in a model without a supported index will result in an exception.\n",
      "  return get_prediction_index(\n"
     ]
    }
   ],
   "source": [
    "forecast_arima = model_arima_fit.forecast(steps=len(test))\n"
   ]
  },
  {
   "cell_type": "code",
   "execution_count": 23,
   "id": "b52cdefc",
   "metadata": {},
   "outputs": [
    {
     "name": "stdout",
     "output_type": "stream",
     "text": [
      "ARIMA RMSE: 91.23504590036283\n"
     ]
    }
   ],
   "source": [
    "rmse_arima = sqrt(mean_squared_error(test, forecast_arima))\n",
    "print(\"ARIMA RMSE:\", rmse_arima)\n"
   ]
  },
  {
   "cell_type": "code",
   "execution_count": 24,
   "id": "66589a86",
   "metadata": {},
   "outputs": [
    {
     "data": {
      "image/png": "[encoded data removed]",
      "text/plain": [
       "<Figure size 1200x600 with 1 Axes>"
      ]
     },
     "metadata": {},
     "output_type": "display_data"
    }
   ],
   "source": [
    "plt.figure(figsize=(12, 6))\n",
    "plt.plot(train.index, train, label=\"Train\")\n",
    "plt.plot(test.index, test, label=\"Test\")\n",
    "plt.plot(test.index, forecast_arima, label=\"ARIMA Forecast\")\n",
    "plt.legend()\n",
    "plt.title(\"ARIMA Forecast vs Actual\")\n",
    "plt.grid()\n",
    "plt.show()"
   ]
  },
  {
   "cell_type": "code",
   "execution_count": 35,
   "id": "1ef79fd5",
   "metadata": {},
   "outputs": [
    {
     "name": "stderr",
     "output_type": "stream",
     "text": [
      "/Users/sejal/anaconda3/lib/python3.11/site-packages/statsmodels/tsa/base/tsa_model.py:473: ValueWarning: A date index has been provided, but it has no associated frequency information and so will be ignored when e.g. forecasting.\n",
      "  self._init_dates(dates, freq)\n",
      "/Users/sejal/anaconda3/lib/python3.11/site-packages/statsmodels/tsa/base/tsa_model.py:473: ValueWarning: A date index has been provided, but it has no associated frequency information and so will be ignored when e.g. forecasting.\n",
      "  self._init_dates(dates, freq)\n",
      "/Users/sejal/anaconda3/lib/python3.11/site-packages/statsmodels/tsa/statespace/sarimax.py:966: UserWarning: Non-stationary starting autoregressive parameters found. Using zeros as starting parameters.\n",
      "  warn('Non-stationary starting autoregressive parameters'\n",
      "/Users/sejal/anaconda3/lib/python3.11/site-packages/statsmodels/tsa/statespace/sarimax.py:978: UserWarning: Non-invertible starting MA parameters found. Using zeros as starting parameters.\n",
      "  warn('Non-invertible starting MA parameters found.'\n"
     ]
    }
   ],
   "source": [
    "sarima_model = SARIMAX(train, order=stepwise_model.order, seasonal_order=(1,1,1,7))\n",
    "sarima_result = sarima_model.fit(disp=False)\n"
   ]
  },
  {
   "cell_type": "code",
   "execution_count": 26,
   "id": "4a55a9ab",
   "metadata": {},
   "outputs": [
    {
     "name": "stderr",
     "output_type": "stream",
     "text": [
      "/Users/sejal/anaconda3/lib/python3.11/site-packages/statsmodels/tsa/base/tsa_model.py:836: ValueWarning: No supported index is available. Prediction results will be given with an integer index beginning at `start`.\n",
      "  return get_prediction_index(\n",
      "/Users/sejal/anaconda3/lib/python3.11/site-packages/statsmodels/tsa/base/tsa_model.py:836: FutureWarning: No supported index is available. In the next version, calling this method in a model without a supported index will result in an exception.\n",
      "  return get_prediction_index(\n"
     ]
    }
   ],
   "source": [
    "forecast_sarima = sarima_result.forecast(steps=len(test))\n"
   ]
  },
  {
   "cell_type": "code",
   "execution_count": 27,
   "id": "82a88d9b",
   "metadata": {},
   "outputs": [
    {
     "name": "stdout",
     "output_type": "stream",
     "text": [
      "SARIMA RMSE: 88.23318541696663\n"
     ]
    }
   ],
   "source": [
    "rmse_sarima = sqrt(mean_squared_error(test, forecast_sarima))\n",
    "print(\"SARIMA RMSE:\", rmse_sarima)\n"
   ]
  },
  {
   "cell_type": "code",
   "execution_count": 28,
   "id": "59f71d88",
   "metadata": {},
   "outputs": [
    {
     "data": {
      "image/png": "[encoded data removed]",
      "text/plain": [
       "<Figure size 1200x600 with 1 Axes>"
      ]
     },
     "metadata": {},
     "output_type": "display_data"
    }
   ],
   "source": [
    "plt.figure(figsize=(12, 6))\n",
    "plt.plot(train.index, train, label=\"Train\")\n",
    "plt.plot(test.index, test, label=\"Test\")\n",
    "plt.plot(test.index, forecast_sarima, label=\"SARIMA Forecast\")\n",
    "plt.legend()\n",
    "plt.title(\"SARIMA Forecast vs Actual\")\n",
    "plt.grid()\n",
    "plt.show()"
   ]
  },
  {
   "cell_type": "code",
   "execution_count": 31,
   "id": "15108f6c",
   "metadata": {},
   "outputs": [
    {
     "name": "stderr",
     "output_type": "stream",
     "text": [
      "/Users/sejal/anaconda3/lib/python3.11/site-packages/statsmodels/tsa/base/tsa_model.py:836: ValueWarning: No supported index is available. Prediction results will be given with an integer index beginning at `start`.\n",
      "  return get_prediction_index(\n"
     ]
    },
    {
     "data": {
      "image/png": "[encoded data removed]",
      "text/plain": [
       "<Figure size 1200x600 with 1 Axes>"
      ]
     },
     "metadata": {},
     "output_type": "display_data"
    }
   ],
   "source": [
    "# Forecast next 30 days\n",
    "forecast_arima_30 = model_arima_fit.forecast(steps=30)\n",
    "forecast_index = pd.date_range(start=data.index[-1] + pd.Timedelta(days=1), periods=30)\n",
    "\n",
    "# Limit the past data for visualization (e.g., last 60 days)\n",
    "recent_data = data[-60:]\n",
    "\n",
    "# Plot\n",
    "plt.figure(figsize=(12, 6))\n",
    "plt.plot(recent_data.index, recent_data.values, label='Last 60 Days Actual Data')\n",
    "plt.plot(forecast_index, forecast_arima_30, label='Next 30 Days Forecast (ARIMA)', color='orange')\n",
    "plt.title(\"ARIMA: Last 60 Days + Next 30 Days Stock Price Prediction\")\n",
    "plt.xlabel(\"Date\")\n",
    "plt.ylabel(\"Close Price\")\n",
    "plt.legend()\n",
    "plt.grid()\n",
    "plt.tight_layout()\n",
    "plt.show()\n"
   ]
  },
  {
   "cell_type": "code",
   "execution_count": 36,
   "id": "f3b8a56d",
   "metadata": {},
   "outputs": [
    {
     "name": "stderr",
     "output_type": "stream",
     "text": [
      "/Users/sejal/anaconda3/lib/python3.11/site-packages/statsmodels/tsa/statespace/sarimax.py:966: UserWarning: Non-stationary starting autoregressive parameters found. Using zeros as starting parameters.\n",
      "  warn('Non-stationary starting autoregressive parameters'\n",
      "/Users/sejal/anaconda3/lib/python3.11/site-packages/statsmodels/tsa/statespace/sarimax.py:978: UserWarning: Non-invertible starting MA parameters found. Using zeros as starting parameters.\n",
      "  warn('Non-invertible starting MA parameters found.'\n",
      " This problem is unconstrained.\n"
     ]
    },
    {
     "name": "stdout",
     "output_type": "stream",
     "text": [
      "RUNNING THE L-BFGS-B CODE\n",
      "\n",
      "           * * *\n",
      "\n",
      "Machine precision = 2.220D-16\n",
      " N =            9     M =           10\n",
      "\n",
      "At X0         0 variables are exactly at the bounds\n",
      "\n",
      "At iterate    0    f= -4.07761D-01    |proj g|=  1.05762D+00\n",
      "\n",
      "At iterate    5    f= -6.85563D-01    |proj g|=  6.13216D-01\n",
      "\n",
      "At iterate   10    f= -7.84472D-01    |proj g|=  4.24490D-01\n",
      "\n",
      "At iterate   15    f= -8.40298D-01    |proj g|=  5.27279D-01\n",
      "\n",
      "At iterate   20    f= -8.53818D-01    |proj g|=  8.24293D-02\n",
      "\n",
      "At iterate   25    f= -8.59196D-01    |proj g|=  1.70826D-02\n",
      "\n",
      "At iterate   30    f= -8.59838D-01    |proj g|=  1.30983D-02\n",
      "\n",
      "At iterate   35    f= -8.59844D-01    |proj g|=  1.13618D-03\n",
      "\n",
      "At iterate   40    f= -8.59845D-01    |proj g|=  3.02529D-04\n",
      "\n",
      "At iterate   45    f= -8.59851D-01    |proj g|=  1.73683D-03\n",
      "  ys=-2.046E-07  -gs= 3.280E-06 BFGS update SKIPPED\n"
     ]
    },
    {
     "name": "stderr",
     "output_type": "stream",
     "text": [
      "\n",
      " Warning:  more than 10 function and gradient\n",
      "   evaluations in the last line search.  Termination\n",
      "   may possibly be caused by a bad search direction.\n"
     ]
    },
    {
     "name": "stdout",
     "output_type": "stream",
     "text": [
      "\n",
      "           * * *\n",
      "\n",
      "Tit   = total number of iterations\n",
      "Tnf   = total number of function evaluations\n",
      "Tnint = total number of segments explored during Cauchy searches\n",
      "Skip  = number of BFGS updates skipped\n",
      "Nact  = number of active bounds at final generalized Cauchy point\n",
      "Projg = norm of the final projected gradient\n",
      "F     = final function value\n",
      "\n",
      "           * * *\n",
      "\n",
      "   N    Tit     Tnf  Tnint  Skip  Nact     Projg        F\n",
      "    9     46     87      1     1     0   1.778D-03  -8.599D-01\n",
      "  F = -0.85985139769282570     \n",
      "\n",
      "CONVERGENCE: REL_REDUCTION_OF_F_<=_FACTR*EPSMCH             \n"
     ]
    }
   ],
   "source": [
    "sarima_model_fit = sarima_model.fit()"
   ]
  },
  {
   "cell_type": "code",
   "execution_count": 37,
   "id": "204f76ea",
   "metadata": {},
   "outputs": [
    {
     "name": "stderr",
     "output_type": "stream",
     "text": [
      "/Users/sejal/anaconda3/lib/python3.11/site-packages/statsmodels/tsa/base/tsa_model.py:836: ValueWarning: No supported index is available. Prediction results will be given with an integer index beginning at `start`.\n",
      "  return get_prediction_index(\n",
      "/Users/sejal/anaconda3/lib/python3.11/site-packages/statsmodels/tsa/base/tsa_model.py:836: FutureWarning: No supported index is available. In the next version, calling this method in a model without a supported index will result in an exception.\n",
      "  return get_prediction_index(\n"
     ]
    },
    {
     "data": {
      "image/png": "[encoded data removed]",
      "text/plain": [
       "<Figure size 1200x600 with 1 Axes>"
      ]
     },
     "metadata": {},
     "output_type": "display_data"
    }
   ],
   "source": [
    "# Forecast next 30 days\n",
    "forecast_sarima_30 = sarima_model_fit.forecast(steps=30)\n",
    "forecast_index = pd.date_range(start=data.index[-1] + pd.Timedelta(days=1), periods=30)\n",
    "\n",
    "# Limit the past data for visualization (e.g., last 60 days)\n",
    "recent_data = data[-60:]\n",
    "\n",
    "# Plot\n",
    "plt.figure(figsize=(12, 6))\n",
    "plt.plot(recent_data.index, recent_data.values, label='Last 60 Days Actual Data')\n",
    "plt.plot(forecast_index, forecast_sarima_30, label='Next 30 Days Forecast (ARIMA)', color='orange')\n",
    "plt.title(\"ARIMA: Last 60 Days + Next 30 Days Stock Price Prediction\")\n",
    "plt.xlabel(\"Date\")\n",
    "plt.ylabel(\"Close Price\")\n",
    "plt.legend()\n",
    "plt.grid()\n",
    "plt.tight_layout()\n",
    "plt.show()\n"
   ]
  },
  {
   "cell_type": "code",
   "execution_count": null,
   "id": "74fc1b35",
   "metadata": {},
   "outputs": [],
   "source": []
  }
 ],
 "metadata": {
  "kernelspec": {
   "display_name": "Python 3 (ipykernel)",
   "language": "python",
   "name": "python3"
  },
  "language_info": {
   "codemirror_mode": {
    "name": "ipython",
    "version": 3
   },
   "file_extension": ".py",
   "mimetype": "text/x-python",
   "name": "python",
   "nbconvert_exporter": "python",
   "pygments_lexer": "ipython3",
   "version": "3.11.5"
  }
 },
 "nbformat": 4,
 "nbformat_minor": 5
}
